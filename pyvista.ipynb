{
 "cells": [
  {
   "cell_type": "code",
   "execution_count": 1,
   "id": "f9298932",
   "metadata": {},
   "outputs": [
    {
     "data": {
      "application/vnd.jupyter.widget-view+json": {
       "model_id": "57a132be4c39462c9e13a29cf027aab1",
       "version_major": 2,
       "version_minor": 0
      },
      "text/plain": [
       "Widget(value='<iframe src=\"http://localhost:38655/index.html?ui=P_0x74d4c84030e0_0&reconnect=auto\" class=\"pyvi…"
      ]
     },
     "metadata": {},
     "output_type": "display_data"
    }
   ],
   "source": [
    "import pyvista as pv\n",
    "sphere = pv.Sphere()\n",
    "\n",
    "# short example\n",
    "sphere.plot(jupyter_backend='trame')\n",
    "\n",
    "# # long example\n",
    "# plotter = pv.Plotter(notebook=True)\n",
    "# plotter.add_mesh(sphere)\n",
    "# plotter.show(jupyter_backend='trame')"
   ]
  },
  {
   "cell_type": "code",
   "execution_count": 2,
   "id": "cf021b6f",
   "metadata": {},
   "outputs": [],
   "source": [
    "import numpy as np\n",
    "from mpi4py import MPI\n",
    "\n",
    "\n",
    "import dolfinx.plot as plot\n",
    "from dolfinx.fem import Function, functionspace\n",
    "from dolfinx.mesh import CellType, compute_midpoints, create_unit_cube, create_unit_square, meshtags\n",
    "\n",
    "try:\n",
    "    import pyvista\n",
    "except ModuleNotFoundError:\n",
    "    print(\"pyvista is required for this demo\")\n",
    "    exit(0)\n",
    "\n",
    "# If environment variable PYVISTA_OFF_SCREEN is set to true save a png\n",
    "# otherwise create interactive plot\n",
    "\n",
    "# Set some global options for all plots\n",
    "transparent = False\n",
    "figsize = 800\n"
   ]
  },
  {
   "cell_type": "code",
   "execution_count": 3,
   "id": "31a459df",
   "metadata": {},
   "outputs": [],
   "source": [
    "\n",
    "def plot_scalar():\n",
    "    # We start by creating a unit square mesh and interpolating a\n",
    "    # function into a degree 1 Lagrange space\n",
    "    msh = create_unit_square(\n",
    "        MPI.COMM_WORLD, 12, 12, cell_type=CellType.quadrilateral, dtype=np.float64\n",
    "    )\n",
    "    V = functionspace(msh, (\"Lagrange\", 1))\n",
    "    u = Function(V, dtype=np.float64)\n",
    "    u.interpolate(lambda x: np.sin(np.pi * x[0]) * np.sin(2 * x[1] * np.pi))\n",
    "    # To visualize the function u, we create a VTK-compatible grid to\n",
    "    # values of u to\n",
    "    cells, types, x = plot.vtk_mesh(V)\n",
    "    grid = pyvista.UnstructuredGrid(cells, types, x)\n",
    "    grid.point_data[\"u\"] = u.x.array\n",
    "    print(u.x.array)\n",
    "\n",
    "    # The function \"u\" is set as the active scalar for the mesh, and\n",
    "    # warp in z-direction is set\n",
    "    grid.set_active_scalars(\"u\")\n",
    "    warped = grid.warp_by_scalar()\n",
    "\n",
    "    # A plotting window is created with two sub-plots, one of the scalar\n",
    "    # values and the other of the mesh is warped by the scalar values in\n",
    "    # z-direction\n",
    "    subplotter = pyvista.Plotter(shape=(1, 2))\n",
    "    subplotter.subplot(0, 0)\n",
    "    subplotter.add_text(\"Scalar contour field\", font_size=14, color=\"black\", position=\"upper_edge\")\n",
    "    subplotter.add_mesh(grid, show_edges=True, show_scalar_bar=True)\n",
    "    subplotter.view_xy()\n",
    "\n",
    "    subplotter.subplot(0, 1)\n",
    "    subplotter.add_text(\"Warped function\", position=\"upper_edge\", font_size=14, color=\"black\")\n",
    "    sargs = dict(\n",
    "        height=0.8,\n",
    "        width=0.1,\n",
    "        vertical=True,\n",
    "        position_x=0.05,\n",
    "        position_y=0.05,\n",
    "        fmt=\"%1.2e\",\n",
    "        title_font_size=40,\n",
    "        color=\"black\",\n",
    "        label_font_size=25,\n",
    "    )\n",
    "    subplotter.set_position([-3, 2.6, 0.3])\n",
    "    subplotter.set_focus([3, -1, -0.15])\n",
    "    subplotter.set_viewup([0, 0, 1])\n",
    "    subplotter.add_mesh(warped, show_edges=True, scalar_bar_args=sargs)\n",
    "    if pyvista.OFF_SCREEN:\n",
    "        subplotter.screenshot(\n",
    "            \"2D_function_warp.png\",\n",
    "            transparent_background=transparent,\n",
    "            window_size=[figsize, figsize],\n",
    "        )\n",
    "    else:\n",
    "        subplotter.show()"
   ]
  },
  {
   "cell_type": "code",
   "execution_count": 4,
   "id": "f10c52a7",
   "metadata": {},
   "outputs": [
    {
     "name": "stdout",
     "output_type": "stream",
     "text": [
      "[ 4.22403703e-34  7.26639270e-18  7.52272328e-18  1.29409523e-01\n",
      "  1.25857614e-17  2.24143868e-01  1.45327854e-17  2.50000000e-01\n",
      "  1.45327854e-17  2.58819045e-01  4.33012702e-01  2.05524622e-17\n",
      "  3.53553391e-01  1.25857614e-17  2.24143868e-01  5.00000000e-01\n",
      "  6.12372436e-01  2.51715227e-17  4.33012702e-01  7.26639270e-18\n",
      "  1.29409523e-01  4.33012702e-01  7.07106781e-01  7.50000000e-01\n",
      "  2.80751855e-17  4.82962913e-01  1.77975291e-33  3.16961915e-17\n",
      "  2.50000000e-01  6.12372436e-01  8.66025404e-01  8.36516304e-01\n",
      "  2.90655708e-17  5.00000000e-01 -7.26639270e-18 -1.29409523e-01\n",
      "  6.12323400e-17  3.53553391e-01  7.50000000e-01  9.65925826e-01\n",
      "  8.66025404e-01  2.80751855e-17  4.82962913e-01 -1.25857614e-17\n",
      " -2.24143868e-01 -2.50000000e-01  8.65956056e-17  4.33012702e-01\n",
      "  8.36516304e-01  1.00000000e+00  8.36516304e-01  2.51715227e-17\n",
      "  4.33012702e-01 -1.45327854e-17 -2.58819045e-01 -4.33012702e-01\n",
      " -3.53553391e-01  1.06057524e-16  4.82962913e-01  8.66025404e-01\n",
      "  9.65925826e-01  7.50000000e-01  2.05524622e-17  3.53553391e-01\n",
      " -1.25857614e-17 -2.24143868e-01 -5.00000000e-01 -6.12372436e-01\n",
      " -4.33012702e-01  1.18291797e-16  5.00000000e-01  8.36516304e-01\n",
      "  8.66025404e-01  6.12372436e-01  1.45327854e-17  2.50000000e-01\n",
      " -7.26639270e-18 -1.29409523e-01 -4.33012702e-01 -7.07106781e-01\n",
      " -7.50000000e-01 -4.82962913e-01  1.22464680e-16  4.82962913e-01\n",
      "  7.50000000e-01  7.07106781e-01  4.33012702e-01  7.52272328e-18\n",
      "  1.29409523e-01  3.55950583e-33 -6.33923830e-17 -2.50000000e-01\n",
      " -6.12372436e-01 -8.66025404e-01 -8.36516304e-01 -5.00000000e-01\n",
      "  1.18291797e-16  4.33012702e-01  6.12372436e-01  5.00000000e-01\n",
      "  2.24143868e-01 -3.55950583e-33  6.12323400e-17 -1.22464680e-16\n",
      " -3.53553391e-01 -7.50000000e-01 -9.65925826e-01 -8.66025404e-01\n",
      " -4.82962913e-01  1.06057524e-16  3.53553391e-01  4.33012702e-01\n",
      "  2.58819045e-01  1.06057524e-16 -1.73191211e-16 -4.33012702e-01\n",
      " -8.36516304e-01 -1.00000000e+00 -8.36516304e-01 -4.33012702e-01\n",
      "  8.65956056e-17  2.50000000e-01  2.24143868e-01  1.22464680e-16\n",
      " -2.12115048e-16 -4.82962913e-01 -8.66025404e-01 -9.65925826e-01\n",
      " -7.50000000e-01 -3.53553391e-01  6.12323400e-17  1.29409523e-01\n",
      "  1.06057524e-16 -2.36583594e-16 -5.00000000e-01 -8.36516304e-01\n",
      " -8.66025404e-01 -6.12372436e-01 -2.50000000e-01  3.16961915e-17\n",
      "  6.12323400e-17 -2.44929360e-16 -4.82962913e-01 -7.50000000e-01\n",
      " -7.07106781e-01 -4.33012702e-01 -1.29409523e-01  6.93828408e-32\n",
      " -2.36583594e-16 -4.33012702e-01 -6.12372436e-01 -5.00000000e-01\n",
      " -2.24143868e-01 -6.12323400e-17 -2.12115048e-16 -3.53553391e-01\n",
      " -4.33012702e-01 -2.58819045e-01 -1.06057524e-16 -1.73191211e-16\n",
      " -2.50000000e-01 -2.24143868e-01 -1.22464680e-16 -1.22464680e-16\n",
      " -1.29409523e-01 -1.06057524e-16 -6.33923830e-17 -6.12323400e-17\n",
      " -2.99951957e-32]\n"
     ]
    },
    {
     "data": {
      "application/vnd.jupyter.widget-view+json": {
       "model_id": "6f222bf88ab3497fae853c30a245047d",
       "version_major": 2,
       "version_minor": 0
      },
      "text/plain": [
       "Widget(value='<iframe src=\"http://localhost:38655/index.html?ui=P_0x74d4612f3c50_1&reconnect=auto\" class=\"pyvi…"
      ]
     },
     "metadata": {},
     "output_type": "display_data"
    }
   ],
   "source": [
    "plot_scalar()"
   ]
  },
  {
   "cell_type": "code",
   "execution_count": null,
   "id": "4c647898",
   "metadata": {},
   "outputs": [],
   "source": []
  }
 ],
 "metadata": {
  "kernelspec": {
   "display_name": "fenicsx-env",
   "language": "python",
   "name": "python3"
  },
  "language_info": {
   "codemirror_mode": {
    "name": "ipython",
    "version": 3
   },
   "file_extension": ".py",
   "mimetype": "text/x-python",
   "name": "python",
   "nbconvert_exporter": "python",
   "pygments_lexer": "ipython3",
   "version": "3.13.3"
  }
 },
 "nbformat": 4,
 "nbformat_minor": 5
}
