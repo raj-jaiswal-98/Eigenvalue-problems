{
 "cells": [
  {
   "cell_type": "markdown",
   "id": "21a8f9bd",
   "metadata": {},
   "source": [
    "BVP\n",
    "\n",
    "laplace equation\n",
    "ball around center (0, 0) - drichlet bc \n",
    "smallest eigenvalues and functions"
   ]
  },
  {
   "cell_type": "code",
   "execution_count": 1,
   "id": "de85bece",
   "metadata": {},
   "outputs": [],
   "source": [
    "import numpy as np\n",
    "import ufl\n",
    "from mpi4py import MPI\n",
    "from petsc4py import PETSc\n",
    "from slepc4py import SLEPc\n",
    "import pyvista as pv\n",
    "from dolfinx import mesh, fem, plot"
   ]
  },
  {
   "cell_type": "markdown",
   "id": "b2d3f9bc",
   "metadata": {},
   "source": [
    "#1 generate a ball domain "
   ]
  },
  {
   "cell_type": "code",
   "execution_count": 2,
   "id": "71f8e1d2",
   "metadata": {},
   "outputs": [],
   "source": [
    "sphere_radius = 1.0"
   ]
  },
  {
   "cell_type": "code",
   "execution_count": 3,
   "id": "b7ef3d5f",
   "metadata": {},
   "outputs": [],
   "source": [
    "import gmsh\n",
    "from dolfinx.io import gmshio\n",
    "# import meshio\n",
    "\n",
    "\n",
    "def get_sphere_domain(radius: float, res :float = 1, filename: str = None):\n",
    "    \"\"\"\n",
    "    radius: float. Radius of sphere\n",
    "    res: float, resolution of mesh\n",
    "    \"\"\"\n",
    "\n",
    "    # if filename is not None:\n",
    "        \n",
    "        \n",
    "\n",
    "\n",
    "    gmsh.initialize()\n",
    "    model = gmsh.model()\n",
    "    model.add(\"Sphere\")\n",
    "    model.setCurrent(\"Sphere\")\n",
    "\n",
    "\n",
    "    sphere = model.occ.addSphere(0, 0, 0, radius=radius, tag=1)\n",
    "    model.occ.synchronize()\n",
    "    gdim = 3\n",
    "    model.addPhysicalGroup(dim=gdim, tags=[sphere])\n",
    "\n",
    "\n",
    "    #set mesh options and generate mesh\n",
    "    gmsh.option.setNumber(\"Mesh.MeshSizeFactor\", res)\n",
    "    \n",
    "    model.mesh.generate(gdim)\n",
    "\n",
    "    #get domain from mesh\n",
    "    domain, _, _ = gmshio.model_to_mesh(model=model, comm=MPI.COMM_WORLD, rank = 0, gdim = gdim)\n",
    "\n",
    "    \n",
    "    \n",
    "    # gmsh.write(\"Sphere.xmdf\")\n",
    "\n",
    "    gmsh.finalize()\n",
    "    return domain"
   ]
  },
  {
   "cell_type": "code",
   "execution_count": 4,
   "id": "2119b363",
   "metadata": {},
   "outputs": [],
   "source": [
    "from dolfinx import plot\n",
    "import pyvista\n",
    "\n",
    "def plot_domain(domain):\n",
    "\n",
    "    pyvista.start_xvfb()\n",
    "    gdim = domain.topology.dim #dimensions of domain!\n",
    "\n",
    "    domain.topology.create_connectivity(gdim, gdim)\n",
    "    topology, cell_types, geometry = plot.vtk_mesh(domain, gdim)\n",
    "    grid = pyvista.UnstructuredGrid(topology, cell_types, geometry)\n",
    "    plotter = pyvista.Plotter()\n",
    "    plotter.add_mesh(grid, show_edges=True)\n",
    "    plotter.view_xy()\n",
    "    if not pyvista.OFF_SCREEN:\n",
    "        plotter.show()\n",
    "    else:\n",
    "        figure = plotter.screenshot(\"fundamentals_mesh.png\")\n",
    "\n"
   ]
  },
  {
   "cell_type": "code",
   "execution_count": 5,
   "id": "b5ffc28d",
   "metadata": {},
   "outputs": [
    {
     "name": "stdout",
     "output_type": "stream",
     "text": [
      "Info    : Meshing 1D...\n",
      "Info    : [ 40%] Meshing curve 2 (Circle)\n",
      "Info    : Done meshing 1D (Wall 0.000755006s, CPU 0.001083s)\n",
      "Info    : Meshing 2D...\n",
      "Info    : Meshing surface 1 (Sphere, Frontal-Delaunay)\n",
      "Info    : Done meshing 2D (Wall 0.0126254s, CPU 0.010698s)\n",
      "Info    : Meshing 3D...\n",
      "Info    : 3D Meshing 1 volume with 1 connected component\n",
      "Info    : Tetrahedrizing 162 nodes...\n",
      "Info    : Done tetrahedrizing 170 nodes (Wall 0.00186512s, CPU 0.000684s)\n",
      "Info    : Reconstructing mesh...\n",
      "Info    :  - Creating surface mesh\n",
      "Info    :  - Identifying boundary edges\n",
      "Info    :  - Recovering boundary\n",
      "Info    : Done reconstructing mesh (Wall 0.00385719s, CPU 0.002471s)\n",
      "Info    : Found volume 1\n",
      "Info    : It. 0 - 0 nodes created - worst tet radius 3.44752 (nodes removed 0 0)\n",
      "Info    : 3D refinement terminated (205 nodes total):\n",
      "Info    :  - 0 Delaunay cavities modified for star shapeness\n",
      "Info    :  - 0 nodes could not be inserted\n",
      "Info    :  - 692 tetrahedra created in 0.00184878 sec. (374301 tets/s)\n",
      "Info    : 0 node relocations\n",
      "Info    : Done meshing 3D (Wall 0.0104598s, CPU 0.007063s)\n",
      "Info    : Optimizing mesh...\n",
      "Info    : Optimizing volume 1\n",
      "Info    : Optimization starts (volume = 4.04217) with worst = 0.0840373 / average = 0.735128:\n",
      "Info    : 0.00 < quality < 0.10 :         3 elements\n",
      "Info    : 0.10 < quality < 0.20 :         3 elements\n",
      "Info    : 0.20 < quality < 0.30 :         9 elements\n",
      "Info    : 0.30 < quality < 0.40 :        18 elements\n",
      "Info    : 0.40 < quality < 0.50 :        28 elements\n",
      "Info    : 0.50 < quality < 0.60 :        36 elements\n",
      "Info    : 0.60 < quality < 0.70 :       109 elements\n",
      "Info    : 0.70 < quality < 0.80 :       230 elements\n",
      "Info    : 0.80 < quality < 0.90 :       199 elements\n",
      "Info    : 0.90 < quality < 1.00 :        57 elements\n",
      "Info    : 15 edge swaps, 0 node relocations (volume = 4.04217): worst = 0.300809 / average = 0.747161 (Wall 0.000241864s, CPU 0s)\n",
      "Info    : No ill-shaped tets in the mesh :-)\n",
      "Info    : 0.00 < quality < 0.10 :         0 elements\n",
      "Info    : 0.10 < quality < 0.20 :         0 elements\n",
      "Info    : 0.20 < quality < 0.30 :         0 elements\n",
      "Info    : 0.30 < quality < 0.40 :        19 elements\n",
      "Info    : 0.40 < quality < 0.50 :        26 elements\n",
      "Info    : 0.50 < quality < 0.60 :        38 elements\n",
      "Info    : 0.60 < quality < 0.70 :       106 elements\n",
      "Info    : 0.70 < quality < 0.80 :       231 elements\n",
      "Info    : 0.80 < quality < 0.90 :       203 elements\n",
      "Info    : 0.90 < quality < 1.00 :        56 elements\n",
      "Info    : Done optimizing mesh (Wall 0.000679763s, CPU 0.000338s)\n",
      "Info    : 205 nodes 1011 elements\n"
     ]
    },
    {
     "data": {
      "application/vnd.jupyter.widget-view+json": {
       "model_id": "7376407171da4709a400cb3a458e8fb4",
       "version_major": 2,
       "version_minor": 0
      },
      "text/plain": [
       "Widget(value='<iframe src=\"http://localhost:44609/index.html?ui=P_0x7b2bc65ff770_0&reconnect=auto\" class=\"pyvi…"
      ]
     },
     "metadata": {},
     "output_type": "display_data"
    }
   ],
   "source": [
    "domain = get_sphere_domain(sphere_radius)\n",
    "plot_domain(domain)"
   ]
  },
  {
   "cell_type": "markdown",
   "id": "5f1fb3df",
   "metadata": {},
   "source": [
    "#2 Setup function space and apply boundary conditions"
   ]
  },
  {
   "cell_type": "code",
   "execution_count": 6,
   "id": "6ed1c264",
   "metadata": {},
   "outputs": [],
   "source": [
    "def setup_fe_space(domain):\n",
    "    \"\"\"Create function space and variational forms. Defining bilinear and linear forms.\"\"\"\n",
    "    V = fem.functionspace(domain, (\"Lagrange\", 1))\n",
    "\n",
    "    u, v = ufl.TrialFunction(V), ufl.TestFunction(V)\n",
    "    a = fem.form(ufl.inner(ufl.grad(u), ufl.grad(v))*ufl.dx)\n",
    "    m = fem.form(ufl.inner(u, v)*ufl.dx)\n",
    "\n",
    "    return V, a, m\n"
   ]
  },
  {
   "cell_type": "code",
   "execution_count": 7,
   "id": "9b883572",
   "metadata": {},
   "outputs": [],
   "source": [
    "V, a, m = setup_fe_space(domain)"
   ]
  },
  {
   "cell_type": "markdown",
   "id": "5f5cab66",
   "metadata": {},
   "source": [
    "preparing boundary conditions"
   ]
  },
  {
   "cell_type": "code",
   "execution_count": 8,
   "id": "3daa2b25",
   "metadata": {},
   "outputs": [],
   "source": [
    "from petsc4py import PETSc\n",
    "def on_boundary(x):\n",
    "    return np.isclose(np.sqrt(x[0]**2 + x[1]**2 + x[2]**2), sphere_radius)\n",
    "\n",
    "def get_bcs(V):\n",
    "    boundary_dofs = fem.locate_dofs_geometrical(V, on_boundary)\n",
    "    bc = fem.dirichletbc(PETSc.ScalarType(0), boundary_dofs, V)\n",
    "\n",
    "    return bc\n"
   ]
  },
  {
   "cell_type": "markdown",
   "id": "da1e50fd",
   "metadata": {},
   "source": [
    "#3 assemble matrices and apply boundary conditions"
   ]
  },
  {
   "cell_type": "code",
   "execution_count": 9,
   "id": "7d7bee7a",
   "metadata": {},
   "outputs": [],
   "source": [
    "import dolfinx.fem.petsc\n",
    "\n",
    "def assemble_and_apply_bc(V, a, m):\n",
    "\n",
    "    #get bcs\n",
    "\n",
    "    bc = get_bcs(V)\n",
    "\n",
    "    #  Assemble matrices A and M\n",
    "\n",
    "    A = fem.petsc.assemble_matrix(a, bcs=[]) #bc only on stiffness matrix\n",
    "    A.assemble()\n",
    "    M = fem.petsc.assemble_matrix(m) # mass matrix\n",
    "    M.assemble()\n",
    "\n",
    "    # null_vec = A.createVecLeft()   #for neumann problem\n",
    "    # null_vec.set(1.0)\n",
    "    # null_vec.normalize()\n",
    "    # nullspace = PETSc.NullSpace().create(vectors=[null_vec])\n",
    "    # A.setNullSpace(nullspace)\n",
    "\n",
    "    return A, M\n",
    "\n"
   ]
  },
  {
   "cell_type": "code",
   "execution_count": 10,
   "id": "26d417dd",
   "metadata": {},
   "outputs": [],
   "source": [
    "A, M = assemble_and_apply_bc(V, a, m)"
   ]
  },
  {
   "cell_type": "markdown",
   "id": "921cccdc",
   "metadata": {},
   "source": [
    "setup eigenvalue solver"
   ]
  },
  {
   "cell_type": "code",
   "execution_count": 11,
   "id": "c0e2c5ca",
   "metadata": {},
   "outputs": [],
   "source": [
    "\n",
    "def get_eigenvalues(A, M, n_eigen):\n",
    "\n",
    "    eigensolver = SLEPc.EPS().create()\n",
    "    eigensolver.setOperators(A, M)\n",
    "    eigensolver.setProblemType(SLEPc.EPS.ProblemType.GHEP)\n",
    "    # eigensolver.setDimensions(nev=n_eigen, ncv=2*n_eigen)  # Larger subspace\n",
    "    eigensolver.setDimensions(nev=n_eigen)  # Larger subspace\n",
    "    eigensolver.setTolerances(tol=1e-8, max_it=1000)\n",
    "    eigensolver.setWhichEigenpairs(SLEPc.EPS.Which.SMALLEST_MAGNITUDE)\n",
    "\n",
    "    eigensolver.setFromOptions()\n",
    "    eigensolver.solve()\n",
    "    n_conv = eigensolver.getConverged()\n",
    "\n",
    "    if MPI.COMM_WORLD.rank == 0:\n",
    "        print(f\"Number of converged eigenvalues: {n_conv}\")\n",
    "\n",
    "\n",
    "    return eigensolver, n_conv"
   ]
  },
  {
   "cell_type": "code",
   "execution_count": 12,
   "id": "bf8f8aa8",
   "metadata": {},
   "outputs": [
    {
     "name": "stdout",
     "output_type": "stream",
     "text": [
      "Number of converged eigenvalues: 9\n"
     ]
    }
   ],
   "source": [
    "n_eigen = 5\n",
    "eigensolver, n_conv = get_eigenvalues(A, M, n_eigen=n_eigen)"
   ]
  },
  {
   "cell_type": "code",
   "execution_count": 13,
   "id": "f79aeb45",
   "metadata": {},
   "outputs": [],
   "source": [
    "import matplotlib.pyplot as plt\n",
    "import numpy as np\n",
    "import dolfinx.plot\n",
    "\n",
    "def plot_eigenfunctions(domain, V, eigensolver, A, nev_to_plot):\n",
    "    \"\"\"\n",
    "    Plot the first few eigenfunctions for any given domain using matplotlib.\n",
    "    Parameters:\n",
    "        domain: dolfinx.mesh.Mesh\n",
    "        V: dolfinx.fem.FunctionSpace\n",
    "        eigensolver: SLEPc.EPS\n",
    "        A: PETSc.Mat (needed for getVecs)\n",
    "        n_conv: int (number of converged eigenpairs)\n",
    "        nev_to_plot: int (number of eigenfunctions to plot)\n",
    "    \"\"\"\n",
    "    if nev_to_plot == 0:\n",
    "        return\n",
    "    \n",
    "    if MPI.COMM_WORLD.rank != 0:\n",
    "        return\n",
    "\n",
    "    topology, cell_types, geometry = plot.vtk_mesh(V)\n",
    "    points = domain.geometry.x\n",
    "    for i in range(nev_to_plot):\n",
    "        eigval = eigensolver.getEigenvalue(i)\n",
    "        print(f\"Eigenvalue {i}: {eigval:.4f}\")\n",
    "\n",
    "        r, _ = A.getVecs()\n",
    "        eigensolver.getEigenvector(i, r)\n",
    "\n",
    "        uh = fem.Function(V)\n",
    "        uh.x.petsc_vec.setArray(r.array)\n",
    "        uh.x.petsc_vec.ghostUpdate(addv=PETSc.InsertMode.INSERT, mode=PETSc.ScatterMode.FORWARD)\n",
    "\n",
    "        # Create PyVista grid\n",
    "        values = uh.x.array.real\n",
    "        grid = pv.UnstructuredGrid(topology, cell_types, points)\n",
    "        grid.point_data[\"u\"] = values\n",
    "\n",
    "        # Plot\n",
    "        plotter = pv.Plotter(notebook=True)\n",
    "        plotter.add_mesh(grid, show_edges=True, scalars=\"u\", cmap=\"hsv\")\n",
    "        plotter.view_xy()\n",
    "        plotter.add_text(f\"Eigenfunction {i}, λ = {eigval:.4f}\", font_size=12)\n",
    "        plotter.show()\n",
    "\n",
    "# Usage example (after solving eigenproblem):\n",
    "# plot_eigenfunctions(domain, V, eigensolver, A, n_conv, nev_to_plot=6)\n"
   ]
  },
  {
   "cell_type": "code",
   "execution_count": 14,
   "id": "7267f925",
   "metadata": {},
   "outputs": [
    {
     "name": "stdout",
     "output_type": "stream",
     "text": [
      "Eigenvalue 0: 0.0000\n"
     ]
    },
    {
     "data": {
      "application/vnd.jupyter.widget-view+json": {
       "model_id": "c654e8b08fe44e9daf4a74239f8f7c95",
       "version_major": 2,
       "version_minor": 0
      },
      "text/plain": [
       "Widget(value='<iframe src=\"http://localhost:44609/index.html?ui=P_0x7b2bb1e95bd0_1&reconnect=auto\" class=\"pyvi…"
      ]
     },
     "metadata": {},
     "output_type": "display_data"
    },
    {
     "name": "stdout",
     "output_type": "stream",
     "text": [
      "Eigenvalue 1: 4.5802\n"
     ]
    },
    {
     "data": {
      "application/vnd.jupyter.widget-view+json": {
       "model_id": "8dcbbf4147384f2cb4becaf68b398213",
       "version_major": 2,
       "version_minor": 0
      },
      "text/plain": [
       "Widget(value='<iframe src=\"http://localhost:44609/index.html?ui=P_0x7b2bb1e96e90_2&reconnect=auto\" class=\"pyvi…"
      ]
     },
     "metadata": {},
     "output_type": "display_data"
    },
    {
     "name": "stdout",
     "output_type": "stream",
     "text": [
      "Eigenvalue 2: 4.5912\n"
     ]
    },
    {
     "data": {
      "application/vnd.jupyter.widget-view+json": {
       "model_id": "a05f1ed371b54db4bd20dfd3aa0d149a",
       "version_major": 2,
       "version_minor": 0
      },
      "text/plain": [
       "Widget(value='<iframe src=\"http://localhost:44609/index.html?ui=P_0x7b2bb1e96d50_3&reconnect=auto\" class=\"pyvi…"
      ]
     },
     "metadata": {},
     "output_type": "display_data"
    },
    {
     "name": "stdout",
     "output_type": "stream",
     "text": [
      "Eigenvalue 3: 4.6065\n"
     ]
    },
    {
     "data": {
      "application/vnd.jupyter.widget-view+json": {
       "model_id": "bb86c18fe7864f6896ea59db380d9a62",
       "version_major": 2,
       "version_minor": 0
      },
      "text/plain": [
       "Widget(value='<iframe src=\"http://localhost:44609/index.html?ui=P_0x7b2bb0a0c050_4&reconnect=auto\" class=\"pyvi…"
      ]
     },
     "metadata": {},
     "output_type": "display_data"
    },
    {
     "name": "stdout",
     "output_type": "stream",
     "text": [
      "Eigenvalue 4: 12.4604\n"
     ]
    },
    {
     "data": {
      "application/vnd.jupyter.widget-view+json": {
       "model_id": "4deae5adbbe0412096221e8fc36f903f",
       "version_major": 2,
       "version_minor": 0
      },
      "text/plain": [
       "Widget(value='<iframe src=\"http://localhost:44609/index.html?ui=P_0x7b2bb0a0c190_5&reconnect=auto\" class=\"pyvi…"
      ]
     },
     "metadata": {},
     "output_type": "display_data"
    }
   ],
   "source": [
    "plot_eigenfunctions(domain, V, eigensolver, A, min(n_eigen, n_conv))"
   ]
  },
  {
   "cell_type": "code",
   "execution_count": null,
   "id": "2642400b",
   "metadata": {},
   "outputs": [],
   "source": []
  }
 ],
 "metadata": {
  "kernelspec": {
   "display_name": "fenicsx-env",
   "language": "python",
   "name": "python3"
  },
  "language_info": {
   "codemirror_mode": {
    "name": "ipython",
    "version": 3
   },
   "file_extension": ".py",
   "mimetype": "text/x-python",
   "name": "python",
   "nbconvert_exporter": "python",
   "pygments_lexer": "ipython3",
   "version": "3.13.3"
  }
 },
 "nbformat": 4,
 "nbformat_minor": 5
}
