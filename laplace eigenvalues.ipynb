{
 "cells": [
  {
   "cell_type": "code",
   "execution_count": 1,
   "id": "7624407f",
   "metadata": {},
   "outputs": [],
   "source": [
    "import numpy as np\n",
    "import ufl\n",
    "from mpi4py import MPI\n",
    "from petsc4py import PETSc\n",
    "from slepc4py import SLEPc\n",
    "import pyvista as pv\n",
    "from dolfinx import mesh, fem, plot"
   ]
  },
  {
   "cell_type": "markdown",
   "id": "98d6dd6f",
   "metadata": {},
   "source": [
    "Create domain! A rectangle (1x2) with 10 elements in each direction"
   ]
  },
  {
   "cell_type": "code",
   "execution_count": 2,
   "id": "2b35ce3f",
   "metadata": {},
   "outputs": [
    {
     "data": {
      "text/plain": [
       "<dolfinx.mesh.Mesh at 0x71ea9bbe7770>"
      ]
     },
     "execution_count": 2,
     "metadata": {},
     "output_type": "execute_result"
    }
   ],
   "source": [
    "domain = mesh.create_rectangle(comm=MPI.COMM_WORLD, points=[(0, 0), (2, 2)], n=(100, 100))\n",
    "domain"
   ]
  },
  {
   "cell_type": "markdown",
   "id": "8498e622",
   "metadata": {},
   "source": [
    "create function space"
   ]
  },
  {
   "cell_type": "code",
   "execution_count": 3,
   "id": "3c6f3215",
   "metadata": {},
   "outputs": [],
   "source": [
    "V = fem.functionspace(domain, (\"Lagrange\", 1))"
   ]
  },
  {
   "cell_type": "code",
   "execution_count": 4,
   "id": "eace4253",
   "metadata": {},
   "outputs": [],
   "source": [
    "# 2. Apply Dirichlet BC: u = 0 on boundary ∂Ω\n",
    "def boundary(x):\n",
    "    return np.isclose(x[0], 0.0) | np.isclose(x[0], 2.0) | np.isclose(x[1], 0.0) | np.isclose(x[1], 2.0)"
   ]
  },
  {
   "cell_type": "code",
   "execution_count": 5,
   "id": "b66fed2c",
   "metadata": {},
   "outputs": [],
   "source": [
    "facets = mesh.locate_entities_boundary(domain, domain.topology.dim - 1, boundary)\n",
    "dofs = fem.locate_dofs_topological(V, domain.topology.dim - 1, facets)\n",
    "bc = fem.dirichletbc(PETSc.ScalarType(0), dofs, V) # drichlet boundary conditions"
   ]
  },
  {
   "cell_type": "code",
   "execution_count": 6,
   "id": "89ac6218",
   "metadata": {},
   "outputs": [],
   "source": [
    "# 3. Define bilinear and linear forms\n",
    "u, v = ufl.TrialFunction(V), ufl.TestFunction(V)\n",
    "a = fem.form(ufl.inner(ufl.grad(u), ufl.grad(v)) * ufl.dx)\n",
    "m = fem.form(ufl.inner(u, v) * ufl.dx)"
   ]
  },
  {
   "cell_type": "code",
   "execution_count": 7,
   "id": "c8ed06ec",
   "metadata": {},
   "outputs": [],
   "source": [
    "import dolfinx.fem.petsc\n",
    "# 4. Assemble matrices A and M\n",
    "A = fem.petsc.assemble_matrix(a, bcs=[bc])\n",
    "A.assemble()\n",
    "M = fem.petsc.assemble_matrix(m, bcs=[bc])\n",
    "M.assemble()"
   ]
  },
  {
   "cell_type": "code",
   "execution_count": 8,
   "id": "fd2b5c28",
   "metadata": {},
   "outputs": [
    {
     "name": "stdout",
     "output_type": "stream",
     "text": [
      "Number of converged eigenvalues: 7\n"
     ]
    }
   ],
   "source": [
    "# 5. Solve the generalized eigenvalue problem A u = λ M u\n",
    "eigensolver = SLEPc.EPS().create()\n",
    "eigensolver.setOperators(A, M)\n",
    "# eigensolver.setProblemType(SLEPc.EPS.ProblemType.HEP)\n",
    "eigensolver.setProblemType(SLEPc.EPS.ProblemType.GHEP)\n",
    "\n",
    "tol = 1e-3\n",
    "eigensolver.setTolerances(tol=tol)\n",
    "eigensolver.setWhichEigenpairs(SLEPc.EPS.Which.SMALLEST_REAL) #set 1 for maximum eigenvalues\n",
    "\n",
    "# eigensolver.setType(SLEPc.EPS.Type.KRYLOVSCHUR)\n",
    "\n",
    "# Get ST context from eps\n",
    "# st = eigensolver.getST()\n",
    "\n",
    "# Set shift-and-invert transformation\n",
    "# st.setType(SLEPc.ST.Type.SINVERT)\n",
    "\n",
    "eigensolver.setDimensions(nev=5)  # Get 10 eigenvalues\n",
    "eigensolver.setFromOptions()\n",
    "eigensolver.solve() \n",
    "\n",
    "n_conv = eigensolver.getConverged()\n",
    "if MPI.COMM_WORLD.rank == 0:\n",
    "    print(f\"Number of converged eigenvalues: {n_conv}\")\n"
   ]
  },
  {
   "cell_type": "code",
   "execution_count": null,
   "id": "06405480",
   "metadata": {},
   "outputs": [
    {
     "name": "stdout",
     "output_type": "stream",
     "text": [
      "Eigenvalue 0: 1.0000 with Error: 0.44388874278307017\n"
     ]
    },
    {
     "data": {
      "application/vnd.jupyter.widget-view+json": {
       "model_id": "970ea013d4854424a544a790e9289b65",
       "version_major": 2,
       "version_minor": 0
      },
      "text/plain": [
       "Widget(value='<iframe src=\"http://localhost:45119/index.html?ui=P_0x71ea4ff03250_14&reconnect=auto\" class=\"pyv…"
      ]
     },
     "metadata": {},
     "output_type": "display_data"
    },
    {
     "name": "stdout",
     "output_type": "stream",
     "text": [
      "Eigenvalue 1: 4.9360 with Error: 0.0017080064234876082\n"
     ]
    },
    {
     "data": {
      "application/vnd.jupyter.widget-view+json": {
       "model_id": "a149a764503943f8a157b0c582199106",
       "version_major": 2,
       "version_minor": 0
      },
      "text/plain": [
       "Widget(value='<iframe src=\"http://localhost:45119/index.html?ui=P_0x71ea4ff02350_15&reconnect=auto\" class=\"pyv…"
      ]
     },
     "metadata": {},
     "output_type": "display_data"
    },
    {
     "name": "stdout",
     "output_type": "stream",
     "text": [
      "Eigenvalue 2: 12.3425 with Error: 0.0005590393877088185\n"
     ]
    },
    {
     "data": {
      "application/vnd.jupyter.widget-view+json": {
       "model_id": "f99d007fad864082ba5108508d1fdf7f",
       "version_major": 2,
       "version_minor": 0
      },
      "text/plain": [
       "Widget(value='<iframe src=\"http://localhost:45119/index.html?ui=P_0x71ea4ff02850_16&reconnect=auto\" class=\"pyv…"
      ]
     },
     "metadata": {},
     "output_type": "display_data"
    },
    {
     "name": "stdout",
     "output_type": "stream",
     "text": [
      "Eigenvalue 3: 12.3449 with Error: 0.0006597690987848964\n"
     ]
    },
    {
     "data": {
      "application/vnd.jupyter.widget-view+json": {
       "model_id": "6c5bb93271024f41b0eaea24f06fda04",
       "version_major": 2,
       "version_minor": 0
      },
      "text/plain": [
       "Widget(value='<iframe src=\"http://localhost:45119/index.html?ui=P_0x71ea4ff03390_17&reconnect=auto\" class=\"pyv…"
      ]
     },
     "metadata": {},
     "output_type": "display_data"
    },
    {
     "name": "stdout",
     "output_type": "stream",
     "text": [
      "Eigenvalue 4: 19.7587 with Error: 4.8880590300310375e-06\n"
     ]
    },
    {
     "data": {
      "application/vnd.jupyter.widget-view+json": {
       "model_id": "9082cce4cce44a2ca27845ff93675ddc",
       "version_major": 2,
       "version_minor": 0
      },
      "text/plain": [
       "Widget(value='<iframe src=\"http://localhost:45119/index.html?ui=P_0x71ea4ff02c10_18&reconnect=auto\" class=\"pyv…"
      ]
     },
     "metadata": {},
     "output_type": "display_data"
    },
    {
     "name": "stdout",
     "output_type": "stream",
     "text": [
      "Eigenvalue 5: 24.6980 with Error: 2.659151454178337e-07\n"
     ]
    },
    {
     "data": {
      "application/vnd.jupyter.widget-view+json": {
       "model_id": "f538184d5ad74c77b48ce8f1b22a202d",
       "version_major": 2,
       "version_minor": 0
      },
      "text/plain": [
       "Widget(value='<iframe src=\"http://localhost:45119/index.html?ui=P_0x71ea4ff03610_19&reconnect=auto\" class=\"pyv…"
      ]
     },
     "metadata": {},
     "output_type": "display_data"
    },
    {
     "name": "stdout",
     "output_type": "stream",
     "text": [
      "Eigenvalue 6: 32.1370 with Error: 0.00014021525968865904\n"
     ]
    },
    {
     "data": {
      "application/vnd.jupyter.widget-view+json": {
       "model_id": "ffca279afab547d498f7335fe664d4c1",
       "version_major": 2,
       "version_minor": 0
      },
      "text/plain": [
       "Widget(value='<iframe src=\"http://localhost:45119/index.html?ui=P_0x71ea4ff03750_20&reconnect=auto\" class=\"pyv…"
      ]
     },
     "metadata": {},
     "output_type": "display_data"
    },
    {
     "ename": "",
     "evalue": "",
     "output_type": "error",
     "traceback": [
      "\u001b[1;31mThe Kernel crashed while executing code in the current cell or a previous cell. \n",
      "\u001b[1;31mPlease review the code in the cell(s) to identify a possible cause of the failure. \n",
      "\u001b[1;31mClick <a href='https://aka.ms/vscodeJupyterKernelCrash'>here</a> for more info. \n",
      "\u001b[1;31mView Jupyter <a href='command:jupyter.viewOutput'>log</a> for further details."
     ]
    }
   ],
   "source": [
    "from dolfinx.fem import Function, functionspace\n",
    "from dolfinx.mesh import CellType, compute_midpoints, create_unit_cube, create_unit_square, meshtags\n",
    "\n",
    "try:\n",
    "    import pyvista\n",
    "except ModuleNotFoundError:\n",
    "    print(\"pyvista is required for this demo\")\n",
    "    exit(0)\n",
    "\n",
    "# If environment variable PYVISTA_OFF_SCREEN is set to true save a png\n",
    "# otherwise create interactive plot\n",
    "if pyvista.OFF_SCREEN:\n",
    "    pyvista.start_xvfb(wait=0.1)\n",
    "\n",
    "# Set some global options for all plots\n",
    "transparent = False\n",
    "figsize = 800\n",
    "\n",
    "# 6. Extract and plot first few eigenfunctions\n",
    "if MPI.COMM_WORLD.rank == 0:\n",
    "    topology, cell_types, geometry = plot.vtk_mesh(V)\n",
    "    points = domain.geometry.x\n",
    "    for i in range(n_conv):\n",
    "        eigval = eigensolver.getEigenvalue(i)\n",
    "        error = eigensolver.computeError(i)\n",
    "        print(f\"Eigenvalue {i}: {eigval:.4f} with Error: {error}\")\n",
    "\n",
    "        r, _ = A.getVecs()\n",
    "        eigensolver.getEigenvector(i, r)\n",
    "\n",
    "        uh = fem.Function(V)\n",
    "        uh.x.petsc_vec.setArray(r.array)\n",
    "        uh.x.petsc_vec.ghostUpdate(addv=PETSc.InsertMode.INSERT, mode=PETSc.ScatterMode.FORWARD)\n",
    "\n",
    "        # Create PyVista grid\n",
    "        values = uh.x.array.real\n",
    "        grid = pv.UnstructuredGrid(topology, cell_types, points)\n",
    "        grid.point_data[\"u\"] = values\n",
    "        grid.set_active_scalars(\"u\")\n",
    "        warped = grid.warp_by_scalar('u')\n",
    "        \n",
    "        \n",
    "        # Define the number of contour levels\n",
    "        contour_levels = 25\n",
    "\n",
    "        # Generate contours using the scalar data\n",
    "        contours = grid.contour(contour_levels, scalars=\"u\")\n",
    "\n",
    "        # A plotting window is created with two sub-plots, one of the scalar\n",
    "        # values and the other of the mesh is warped by the scalar values in\n",
    "        # z-direction\n",
    "        subplotter = pv.Plotter(shape=(1, 2))\n",
    "        subplotter.subplot(0, 0)\n",
    "        subplotter.add_text(\"Scalar contour field\", font_size=14, color=\"black\", position=\"upper_edge\")\n",
    "        subplotter.add_mesh(grid, show_scalar_bar=True, cmap=\"jet\")\n",
    "        subplotter.add_mesh(contours, color=\"blue\", line_width=2)\n",
    "        subplotter.view_xy()\n",
    "\n",
    "        contours_warp = warped.contour(contour_levels, scalars=\"u\")\n",
    "        \n",
    "        subplotter.subplot(0, 1)\n",
    "        subplotter.add_text(\"Warped function\", position=\"upper_edge\", font_size=14, color=\"black\")\n",
    "        \n",
    "        subplotter.add_mesh(warped, show_scalar_bar=True, cmap=\"jet\")\n",
    "        subplotter.add_mesh(contours_warp, color=\"blue\", line_width=2)\n",
    "\n",
    "\n",
    "        # if pyvista.OFF_SCREEN:\n",
    "        #     subplotter.screenshot(\n",
    "        #         \"2D_function_warp.png\",\n",
    "        #         transparent_background=transparent,\n",
    "        #         window_size=[figsize, figsize],\n",
    "        #     )\n",
    "        # else:\n",
    "        # subplotter.link_views()\n",
    "        subplotter.show()\n",
    "        \n"
   ]
  },
  {
   "cell_type": "code",
   "execution_count": null,
   "id": "b711137a",
   "metadata": {},
   "outputs": [],
   "source": []
  },
  {
   "cell_type": "code",
   "execution_count": null,
   "id": "bf731b3e",
   "metadata": {},
   "outputs": [],
   "source": []
  }
 ],
 "metadata": {
  "kernelspec": {
   "display_name": "fenicsx-env",
   "language": "python",
   "name": "python3"
  },
  "language_info": {
   "codemirror_mode": {
    "name": "ipython",
    "version": 3
   },
   "file_extension": ".py",
   "mimetype": "text/x-python",
   "name": "python",
   "nbconvert_exporter": "python",
   "pygments_lexer": "ipython3",
   "version": "3.13.3"
  }
 },
 "nbformat": 4,
 "nbformat_minor": 5
}
