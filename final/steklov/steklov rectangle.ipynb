{
 "cells": [
  {
   "cell_type": "markdown",
   "id": "21a8f9bd",
   "metadata": {},
   "source": [
    "BVP\n",
    "\n",
    "laplace equation\n",
    "concentric balls around center (0, 0) - drichlet bc on both the surfaces\n",
    "smallest eigenvalues and functions"
   ]
  },
  {
   "cell_type": "code",
   "execution_count": 1,
   "id": "de85bece",
   "metadata": {},
   "outputs": [],
   "source": [
    "import numpy as np\n",
    "import ufl\n",
    "from mpi4py import MPI\n",
    "from petsc4py import PETSc\n",
    "from slepc4py import SLEPc\n",
    "import pyvista as pv\n",
    "from dolfinx import mesh, fem, plot"
   ]
  },
  {
   "cell_type": "markdown",
   "id": "b2d3f9bc",
   "metadata": {},
   "source": [
    "#1 generate concentric balls domain of radius 3 and 1"
   ]
  },
  {
   "cell_type": "code",
   "execution_count": 2,
   "id": "b7ef3d5f",
   "metadata": {},
   "outputs": [],
   "source": [
    "import gmsh\n",
    "from dolfinx.io import gmshio\n",
    "# import meshio\n",
    "\n",
    "\n",
    "def get_domain():\n",
    "    \"\"\"\n",
    "    radius: float\n",
    "    \"\"\"\n",
    "\n",
    "    # if filename is not None:\n",
    "        \n",
    "        \n",
    "\n",
    "\n",
    "    gmsh.initialize()\n",
    "    model = gmsh.model()\n",
    "    model.add(\"domain\")\n",
    "    model.setCurrent(\"domain\")\n",
    "\n",
    "    rect = model.occ.addRectangle(0, 0, 0, 2, 2)\n",
    "    # disk = model.occ.addDisk(0, 0, 0, disk_radius, disk_radius)\n",
    "\n",
    "    model.occ.synchronize()\n",
    "\n",
    "    #define boundaries\n",
    "\n",
    "    #tag inner and outer surface\n",
    "    # boundary = model.getBoundary(disk)\n",
    "    # print(boundary)\n",
    "    # outer_surface = boundary[0][1]\n",
    "    # inner_surface = boundary[1][1]\n",
    "\n",
    "    #add physical group\n",
    "    model.addPhysicalGroup(2, [rect], tag = 1)\n",
    "    # model.addPhysicalGroup(2, [inner_surface], tag = 2)\n",
    "    # model.addPhysicalGroup(3, [shell_dims_tags[0][1]], tag = 3) #volume\n",
    "    \n",
    "\n",
    "    #set mesh options and generate mesh\n",
    "    gmsh.option.setNumber(\"Mesh.MeshSizeFactor\", 0.1)\n",
    "    model.geo.synchronize()\n",
    "    model.mesh.generate(2)\n",
    "    gmsh.fltk.run()\n",
    "    # gmsh.write(\"spherical_shell.msh\")  # Export to file\n",
    "    \n",
    "\n",
    "\n",
    "    #get domain from mesh\n",
    "    domain, cell_markers, facet_markers = gmshio.model_to_mesh(model=model, comm=MPI.COMM_WORLD, rank = 0, gdim = 2)\n",
    "\n",
    "    \n",
    "    \n",
    "    # gmsh.write(\"Sphere.xmdf\")\n",
    "\n",
    "    gmsh.finalize()\n",
    "    return domain, cell_markers, facet_markers"
   ]
  },
  {
   "cell_type": "code",
   "execution_count": 3,
   "id": "b5ffc28d",
   "metadata": {},
   "outputs": [
    {
     "name": "stdout",
     "output_type": "stream",
     "text": [
      "Info    : Meshing 1D...\n",
      "Info    : [  0%] Meshing curve 1 (Line)\n",
      "Info    : [ 30%] Meshing curve 2 (Line)\n",
      "Info    : [ 60%] Meshing curve 3 (Line)\n",
      "Info    : [ 80%] Meshing curve 4 (Line)\n",
      "Info    : Done meshing 1D (Wall 0.000907728s, CPU 0.001312s)\n",
      "Info    : Meshing 2D...\n",
      "Info    : Meshing surface 1 (Plane, Frontal-Delaunay)\n",
      "Info    : Done meshing 2D (Wall 0.199482s, CPU 0.193877s)\n",
      "Info    : 5993 nodes 11988 elements\n"
     ]
    },
    {
     "name": "stderr",
     "output_type": "stream",
     "text": [
      "X_ChangeProperty: BadValue (integer parameter out of range for operation) 0x0\n"
     ]
    },
    {
     "name": "stdout",
     "output_type": "stream",
     "text": [
      "-------------------------------------------------------\n",
      "Version       : 4.13.1\n",
      "License       : GNU General Public License\n",
      "Build OS      : Linux64-sdk\n",
      "Build date    : 20241016\n",
      "Build host    : 2976249cf102\n",
      "Build options : 64Bit ALGLIB[contrib] ANN[contrib] Bamg Blossom Cairo DIntegration Dlopen DomHex Eigen[contrib] Fltk GMP Gmm[contrib] Hxt Jpeg Kbipack LinuxJoystick MathEx[contrib] Mesh Metis[contrib] Mpeg Netgen Nii2mesh ONELAB ONELABMetamodel OpenCASCADE OpenCASCADE-CAF OpenGL OpenMP OptHom Parser Plugins Png Post QuadMeshingTools QuadTri Solver TetGen/BR TinyXML2[contrib] Untangle Voro++[contrib] WinslowUntangler Zlib\n",
      "FLTK version  : 1.3.9\n",
      "OCC version   : 7.8.1\n",
      "Packaged by   : conda\n",
      "Web site      : https://gmsh.info\n",
      "Issue tracker : https://gitlab.onelab.info/gmsh/gmsh/issues\n",
      "-------------------------------------------------------\n"
     ]
    }
   ],
   "source": [
    "domain, cell_markers, facet_markers = get_domain()"
   ]
  },
  {
   "cell_type": "code",
   "execution_count": 4,
   "id": "07d525d0",
   "metadata": {},
   "outputs": [],
   "source": [
    "# calculate_volume(domain, cell_markers)\n"
   ]
  },
  {
   "cell_type": "code",
   "execution_count": 5,
   "id": "ea6a838d",
   "metadata": {},
   "outputs": [],
   "source": [
    "V = fem.functionspace(domain, (\"Lagrange\", 1))"
   ]
  },
  {
   "cell_type": "code",
   "execution_count": 7,
   "id": "67494db1",
   "metadata": {},
   "outputs": [
    {
     "ename": "NameError",
     "evalue": "name 'boundary' is not defined",
     "output_type": "error",
     "traceback": [
      "\u001b[31m---------------------------------------------------------------------------\u001b[39m",
      "\u001b[31mNameError\u001b[39m                                 Traceback (most recent call last)",
      "\u001b[36mCell\u001b[39m\u001b[36m \u001b[39m\u001b[32mIn[7]\u001b[39m\u001b[32m, line 1\u001b[39m\n\u001b[32m----> \u001b[39m\u001b[32m1\u001b[39m facets = mesh.locate_entities_boundary(domain, domain.topology.dim - \u001b[32m1\u001b[39m, \u001b[43mboundary\u001b[49m)\n",
      "\u001b[31mNameError\u001b[39m: name 'boundary' is not defined"
     ]
    }
   ],
   "source": [
    "facets = mesh.locate_entities_boundary(domain, domain.topology.dim - 1, boundary)\n"
   ]
  },
  {
   "cell_type": "code",
   "execution_count": null,
   "id": "21116e86",
   "metadata": {},
   "outputs": [
    {
     "ename": "TypeError",
     "evalue": "int() argument must be a string, a bytes-like object or a real number, not 'MeshTags'",
     "output_type": "error",
     "traceback": [
      "\u001b[31m---------------------------------------------------------------------------\u001b[39m",
      "\u001b[31mTypeError\u001b[39m                                 Traceback (most recent call last)",
      "\u001b[36mCell\u001b[39m\u001b[36m \u001b[39m\u001b[32mIn[6]\u001b[39m\u001b[32m, line 1\u001b[39m\n\u001b[32m----> \u001b[39m\u001b[32m1\u001b[39m dofs = \u001b[43mfem\u001b[49m\u001b[43m.\u001b[49m\u001b[43mlocate_dofs_topological\u001b[49m\u001b[43m(\u001b[49m\u001b[43mV\u001b[49m\u001b[43m,\u001b[49m\u001b[43m \u001b[49m\u001b[43mdomain\u001b[49m\u001b[43m.\u001b[49m\u001b[43mtopology\u001b[49m\u001b[43m.\u001b[49m\u001b[43mdim\u001b[49m\u001b[43m \u001b[49m\u001b[43m-\u001b[49m\u001b[43m \u001b[49m\u001b[32;43m1\u001b[39;49m\u001b[43m,\u001b[49m\u001b[43m \u001b[49m\u001b[43mfacet_markers\u001b[49m\u001b[43m)\u001b[49m\n",
      "\u001b[36mFile \u001b[39m\u001b[32m~/miniconda3/envs/fenicsx-env/lib/python3.13/site-packages/dolfinx/fem/bcs.py:85\u001b[39m, in \u001b[36mlocate_dofs_topological\u001b[39m\u001b[34m(V, entity_dim, entities, remote)\u001b[39m\n\u001b[32m     57\u001b[39m \u001b[38;5;28;01mdef\u001b[39;00m\u001b[38;5;250m \u001b[39m\u001b[34mlocate_dofs_topological\u001b[39m(\n\u001b[32m     58\u001b[39m     V: typing.Union[dolfinx.fem.FunctionSpace, typing.Iterable[dolfinx.fem.FunctionSpace]],\n\u001b[32m     59\u001b[39m     entity_dim: \u001b[38;5;28mint\u001b[39m,\n\u001b[32m     60\u001b[39m     entities: npt.NDArray[np.int32],\n\u001b[32m     61\u001b[39m     remote: \u001b[38;5;28mbool\u001b[39m = \u001b[38;5;28;01mTrue\u001b[39;00m,\n\u001b[32m     62\u001b[39m ) -> np.ndarray:\n\u001b[32m     63\u001b[39m \u001b[38;5;250m    \u001b[39m\u001b[33;03m\"\"\"Locate degrees-of-freedom belonging to mesh entities topologically.\u001b[39;00m\n\u001b[32m     64\u001b[39m \n\u001b[32m     65\u001b[39m \u001b[33;03m    Args:\u001b[39;00m\n\u001b[32m   (...)\u001b[39m\u001b[32m     83\u001b[39m \u001b[33;03m        first column.\u001b[39;00m\n\u001b[32m     84\u001b[39m \u001b[33;03m    \"\"\"\u001b[39;00m\n\u001b[32m---> \u001b[39m\u001b[32m85\u001b[39m     _entities = \u001b[43mnp\u001b[49m\u001b[43m.\u001b[49m\u001b[43masarray\u001b[49m\u001b[43m(\u001b[49m\u001b[43mentities\u001b[49m\u001b[43m,\u001b[49m\u001b[43m \u001b[49m\u001b[43mdtype\u001b[49m\u001b[43m=\u001b[49m\u001b[43mnp\u001b[49m\u001b[43m.\u001b[49m\u001b[43mint32\u001b[49m\u001b[43m)\u001b[49m\n\u001b[32m     86\u001b[39m     \u001b[38;5;28;01mtry\u001b[39;00m:\n\u001b[32m     87\u001b[39m         \u001b[38;5;28;01mreturn\u001b[39;00m _cpp.fem.locate_dofs_topological(V._cpp_object, entity_dim, _entities, remote)  \u001b[38;5;66;03m# type: ignore\u001b[39;00m\n",
      "\u001b[31mTypeError\u001b[39m: int() argument must be a string, a bytes-like object or a real number, not 'MeshTags'"
     ]
    }
   ],
   "source": [
    "\n",
    "dofs = fem.locate_dofs_topological(V, domain.topology.dim - 1, facet_markers)"
   ]
  },
  {
   "cell_type": "markdown",
   "id": "5f1fb3df",
   "metadata": {},
   "source": [
    "#2 Setup function space and apply boundary conditions"
   ]
  },
  {
   "cell_type": "code",
   "execution_count": null,
   "id": "6ed1c264",
   "metadata": {},
   "outputs": [],
   "source": [
    "from ufl import Measure\n",
    "def setup_fe_space(domain):\n",
    "    \"\"\"Create function space and variational forms. Defining bilinear and linear forms.\"\"\"\n",
    "    \n",
    "    ds_measure = Measure(\"ds\", domain=domain, subdomain_data=facet_markers)\n",
    "    # dx_measure = Measure(\"dx\", domain=domain) # Using default dx for the domain integral\n",
    "    print(facet_markers)\n",
    "    u, v = ufl.TrialFunction(V), ufl.TestFunction(V)\n",
    "    a = fem.form(ufl.inner(ufl.grad(u), ufl.grad(v))*ufl.dx)\n",
    "    m = fem.form(ufl.inner(u, v)*ds_measure)\n",
    "\n",
    "    return V, a, m\n"
   ]
  },
  {
   "cell_type": "code",
   "execution_count": 9,
   "id": "9b883572",
   "metadata": {},
   "outputs": [
    {
     "name": "stdout",
     "output_type": "stream",
     "text": [
      "<dolfinx.mesh.MeshTags object at 0x72d72a210910>\n"
     ]
    }
   ],
   "source": [
    "V, a, m = setup_fe_space(domain)"
   ]
  },
  {
   "cell_type": "markdown",
   "id": "5f5cab66",
   "metadata": {},
   "source": [
    "preparing boundary conditions\n",
    "Drichlet BC u = 0"
   ]
  },
  {
   "cell_type": "code",
   "execution_count": 10,
   "id": "3daa2b25",
   "metadata": {},
   "outputs": [],
   "source": [
    "from petsc4py import PETSc\n",
    "def on_boundary(x):\n",
    "    return np.isclose(np.sqrt(x[0]**2 + x[1]**2), disk_radius)\n",
    "\n",
    "def get_bcs(V):\n",
    "    boundary_dofs = fem.locate_dofs_geometrical(V, on_boundary)\n",
    "    bc = fem.dirichletbc(PETSc.ScalarType(0), boundary_dofs, V)\n",
    "\n",
    "    return bc\n"
   ]
  },
  {
   "cell_type": "markdown",
   "id": "da1e50fd",
   "metadata": {},
   "source": [
    "#3 assemble matrices and apply boundary conditions"
   ]
  },
  {
   "cell_type": "code",
   "execution_count": 11,
   "id": "7d7bee7a",
   "metadata": {},
   "outputs": [],
   "source": [
    "import dolfinx.fem.petsc\n",
    "\n",
    "def assemble_and_apply_bc(V, a, m):\n",
    "\n",
    "    #get bcs\n",
    "\n",
    "    bc = get_bcs(V)\n",
    "\n",
    "    #  Assemble matrices A and M\n",
    "\n",
    "    A = fem.petsc.assemble_matrix(a, bcs=[]) #bc only on stiffness matrix\n",
    "    A.assemble()\n",
    "    M = fem.petsc.assemble_matrix(m) # mass matrix\n",
    "    M.assemble()\n",
    "\n",
    "    # null_vec = A.createVecLeft()   #for neumann problem\n",
    "    # null_vec.set(1.0)\n",
    "    # null_vec.normalize()\n",
    "    # nullspace = PETSc.NullSpace().create(vectors=[null_vec])\n",
    "    # A.setNullSpace(nullspace)\n",
    "\n",
    "    return A, M\n",
    "\n"
   ]
  },
  {
   "cell_type": "code",
   "execution_count": 12,
   "id": "26d417dd",
   "metadata": {},
   "outputs": [],
   "source": [
    "A, M = assemble_and_apply_bc(V, a, m)"
   ]
  },
  {
   "cell_type": "code",
   "execution_count": 13,
   "id": "713874cf",
   "metadata": {},
   "outputs": [
    {
     "name": "stdout",
     "output_type": "stream",
     "text": [
      "A nnz: {'block_size': 1.0, 'nz_allocated': 32665.0, 'nz_used': 32665.0, 'nz_unneeded': 0.0, 'memory': 0.0, 'assemblies': 1.0, 'mallocs': 0.0, 'fill_ratio_given': 0.0, 'fill_ratio_needed': 0.0, 'factor_mallocs': 0.0}\n",
      "M nnz: {'block_size': 1.0, 'nz_allocated': 1784.0, 'nz_used': 1784.0, 'nz_unneeded': 0.0, 'memory': 0.0, 'assemblies': 1.0, 'mallocs': 0.0, 'fill_ratio_given': 0.0, 'fill_ratio_needed': 0.0, 'factor_mallocs': 0.0}\n"
     ]
    }
   ],
   "source": [
    "print(\"A nnz:\", A.getInfo())\n",
    "print(\"M nnz:\", M.getInfo())\n"
   ]
  },
  {
   "cell_type": "code",
   "execution_count": 14,
   "id": "c83c270f",
   "metadata": {},
   "outputs": [
    {
     "name": "stdout",
     "output_type": "stream",
     "text": [
      "253.79529763546935\n",
      "0.2975076060456055\n"
     ]
    }
   ],
   "source": [
    "print(A.norm())\n",
    "print(M.norm())"
   ]
  },
  {
   "cell_type": "markdown",
   "id": "921cccdc",
   "metadata": {},
   "source": [
    "setup eigenvalue solver"
   ]
  },
  {
   "cell_type": "code",
   "execution_count": null,
   "id": "c0e2c5ca",
   "metadata": {},
   "outputs": [],
   "source": [
    "\n",
    "def get_eigenvalues(A, M, n_eigen):\n",
    "\n",
    "    eigensolver = SLEPc.EPS().create()\n",
    "    eigensolver.setOperators(A, M)\n",
    "    eigensolver.setProblemType(SLEPc.EPS.ProblemType.GHEP)\n",
    "    # eigensolver.setDimensions(nev=n_eigen, ncv=2*n_eigen)  # Larger subspace\n",
    "    eigensolver.setDimensions(nev=n_eigen)  # Larger subspace\n",
    "    # eigensolver.setTolerances(tol=1e-8, max_it=1000)\n",
    "    eigensolver.setWhichEigenpairs(SLEPc.EPS.Which.SMALLEST_REAL)\n",
    "\n",
    "    eigensolver.setFromOptions()\n",
    "    eigensolver.solve()\n",
    "    n_conv = eigensolver.getConverged()\n",
    "\n",
    "    if MPI.COMM_WORLD.rank == 0:\n",
    "        print(f\"Number of converged eigenvalues: {n_conv}\")\n",
    "\n",
    "\n",
    "    return eigensolver, n_conv"
   ]
  },
  {
   "cell_type": "code",
   "execution_count": 16,
   "id": "bf8f8aa8",
   "metadata": {},
   "outputs": [
    {
     "ename": "Error",
     "evalue": "error code 73\n[0] EPSSolve() at /home/conda/feedstock_root/build_artifacts/slepc_1733219878637/work/src/eps/interface/epssolve.c:132\n[0] EPSSetUp() at /home/conda/feedstock_root/build_artifacts/slepc_1733219878637/work/src/eps/interface/epssetup.c:394\n[0] STSetUp() at /home/conda/feedstock_root/build_artifacts/slepc_1733219878637/work/src/sys/classes/st/interface/stsolve.c:546\n[0] STSetUp_Shift() at /home/conda/feedstock_root/build_artifacts/slepc_1733219878637/work/src/sys/classes/st/impls/shift/shift.c:134\n[0] KSPSetUp() at /home/conda/feedstock_root/build_artifacts/bld/rattler-build_petsc_1741089330/work/src/ksp/ksp/interface/itfunc.c:427\n[0] PCSetUp() at /home/conda/feedstock_root/build_artifacts/bld/rattler-build_petsc_1741089330/work/src/ksp/pc/interface/precon.c:1086\n[0] PCSetUp_LU() at /home/conda/feedstock_root/build_artifacts/bld/rattler-build_petsc_1741089330/work/src/ksp/pc/impls/factor/lu/lu.c:87\n[0] MatLUFactorSymbolic() at /home/conda/feedstock_root/build_artifacts/bld/rattler-build_petsc_1741089330/work/src/mat/interface/matrix.c:3247\n[0] MatLUFactorSymbolic_SeqAIJ() at /home/conda/feedstock_root/build_artifacts/bld/rattler-build_petsc_1741089330/work/src/mat/impls/aij/seq/aijfact.c:305\n[0] Object is in wrong state\n[0] Matrix is missing diagonal entry 23",
     "output_type": "error",
     "traceback": [
      "\u001b[31m---------------------------------------------------------------------------\u001b[39m",
      "\u001b[31mError\u001b[39m                                     Traceback (most recent call last)",
      "\u001b[36mCell\u001b[39m\u001b[36m \u001b[39m\u001b[32mIn[16]\u001b[39m\u001b[32m, line 2\u001b[39m\n\u001b[32m      1\u001b[39m n_eigen = \u001b[32m5\u001b[39m\n\u001b[32m----> \u001b[39m\u001b[32m2\u001b[39m eigensolver, n_conv = \u001b[43mget_eigenvalues\u001b[49m\u001b[43m(\u001b[49m\u001b[43mA\u001b[49m\u001b[43m,\u001b[49m\u001b[43m \u001b[49m\u001b[43mM\u001b[49m\u001b[43m,\u001b[49m\u001b[43m \u001b[49m\u001b[43mn_eigen\u001b[49m\u001b[43m=\u001b[49m\u001b[43mn_eigen\u001b[49m\u001b[43m)\u001b[49m\n",
      "\u001b[36mCell\u001b[39m\u001b[36m \u001b[39m\u001b[32mIn[15]\u001b[39m\u001b[32m, line 12\u001b[39m, in \u001b[36mget_eigenvalues\u001b[39m\u001b[34m(A, M, n_eigen)\u001b[39m\n\u001b[32m      9\u001b[39m eigensolver.setWhichEigenpairs(SLEPc.EPS.Which.SMALLEST_REAL)\n\u001b[32m     11\u001b[39m eigensolver.setFromOptions()\n\u001b[32m---> \u001b[39m\u001b[32m12\u001b[39m \u001b[43meigensolver\u001b[49m\u001b[43m.\u001b[49m\u001b[43msolve\u001b[49m\u001b[43m(\u001b[49m\u001b[43m)\u001b[49m\n\u001b[32m     13\u001b[39m n_conv = eigensolver.getConverged()\n\u001b[32m     15\u001b[39m \u001b[38;5;28;01mif\u001b[39;00m MPI.COMM_WORLD.rank == \u001b[32m0\u001b[39m:\n",
      "\u001b[36mFile \u001b[39m\u001b[32mslepc4py/SLEPc/EPS.pyx:1294\u001b[39m, in \u001b[36mslepc4py.SLEPc.EPS.solve\u001b[39m\u001b[34m()\u001b[39m\n",
      "\u001b[31mError\u001b[39m: error code 73\n[0] EPSSolve() at /home/conda/feedstock_root/build_artifacts/slepc_1733219878637/work/src/eps/interface/epssolve.c:132\n[0] EPSSetUp() at /home/conda/feedstock_root/build_artifacts/slepc_1733219878637/work/src/eps/interface/epssetup.c:394\n[0] STSetUp() at /home/conda/feedstock_root/build_artifacts/slepc_1733219878637/work/src/sys/classes/st/interface/stsolve.c:546\n[0] STSetUp_Shift() at /home/conda/feedstock_root/build_artifacts/slepc_1733219878637/work/src/sys/classes/st/impls/shift/shift.c:134\n[0] KSPSetUp() at /home/conda/feedstock_root/build_artifacts/bld/rattler-build_petsc_1741089330/work/src/ksp/ksp/interface/itfunc.c:427\n[0] PCSetUp() at /home/conda/feedstock_root/build_artifacts/bld/rattler-build_petsc_1741089330/work/src/ksp/pc/interface/precon.c:1086\n[0] PCSetUp_LU() at /home/conda/feedstock_root/build_artifacts/bld/rattler-build_petsc_1741089330/work/src/ksp/pc/impls/factor/lu/lu.c:87\n[0] MatLUFactorSymbolic() at /home/conda/feedstock_root/build_artifacts/bld/rattler-build_petsc_1741089330/work/src/mat/interface/matrix.c:3247\n[0] MatLUFactorSymbolic_SeqAIJ() at /home/conda/feedstock_root/build_artifacts/bld/rattler-build_petsc_1741089330/work/src/mat/impls/aij/seq/aijfact.c:305\n[0] Object is in wrong state\n[0] Matrix is missing diagonal entry 23"
     ]
    }
   ],
   "source": [
    "n_eigen = 5\n",
    "eigensolver, n_conv = get_eigenvalues(A, M, n_eigen=n_eigen)"
   ]
  },
  {
   "cell_type": "code",
   "execution_count": 17,
   "id": "f79aeb45",
   "metadata": {},
   "outputs": [],
   "source": [
    "import matplotlib.pyplot as plt\n",
    "import numpy as np\n",
    "import dolfinx.plot\n",
    "\n",
    "def plot_eigenfunctions(domain, V, eigensolver, A, nev_to_plot):\n",
    "    \"\"\"\n",
    "    Plot the first few eigenfunctions for any given domain using matplotlib.\n",
    "    Parameters:\n",
    "        domain: dolfinx.mesh.Mesh\n",
    "        V: dolfinx.fem.FunctionSpace\n",
    "        eigensolver: SLEPc.EPS\n",
    "        A: PETSc.Mat (needed for getVecs)\n",
    "        n_conv: int (number of converged eigenpairs)\n",
    "        nev_to_plot: int (number of eigenfunctions to plot)\n",
    "    \"\"\"\n",
    "    if nev_to_plot == 0:\n",
    "        return\n",
    "    \n",
    "    if MPI.COMM_WORLD.rank != 0:\n",
    "        return\n",
    "\n",
    "    topology, cell_types, geometry = plot.vtk_mesh(V)\n",
    "    points = domain.geometry.x\n",
    "    for i in range(nev_to_plot):\n",
    "        eigval = eigensolver.getEigenvalue(i)\n",
    "        error = eigensolver.computeError(i)\n",
    "\n",
    "        print(f\"Eigenvalue {i}: {eigval:.4f}  Znp = {np.sqrt(eigval):.2f} (Error: {error:.2e})\")\n",
    "\n",
    "        r, _ = A.getVecs()\n",
    "        eigensolver.getEigenvector(i, r)\n",
    "\n",
    "        uh = fem.Function(V)\n",
    "        uh.x.petsc_vec.setArray(r.array)\n",
    "        uh.x.petsc_vec.ghostUpdate(addv=PETSc.InsertMode.INSERT, mode=PETSc.ScatterMode.FORWARD)\n",
    "\n",
    "        # Create PyVista grid\n",
    "        values = uh.x.array.real\n",
    "        grid = pv.UnstructuredGrid(topology, cell_types, points)\n",
    "        grid.point_data[\"u\"] = values\n",
    "        \n",
    "        \n",
    "        grid.set_active_scalars(\"u\")\n",
    "        warped = grid.warp_by_scalar()\n",
    "        \n",
    "\n",
    "         # Define the number of contour levels\n",
    "        contour_levels = 25\n",
    "\n",
    "        # Generate contours using the scalar data\n",
    "        contours = grid.contour(contour_levels, scalars=\"u\")\n",
    "        # A plotting window is created with two sub-plots, one of the scalar\n",
    "        # values and the other of the mesh is warped by the scalar values in\n",
    "        # z-direction\n",
    "        subplotter = pyvista.Plotter(shape=(1, 2))\n",
    "        subplotter.subplot(0, 0)\n",
    "        subplotter.add_text(\"Scalar contour field\", font_size=14, color=\"black\", position=\"upper_edge\")\n",
    "        subplotter.add_mesh(grid, show_scalar_bar=True)\n",
    "        subplotter.add_mesh(contours, color=\"blue\", line_width=1)\n",
    "\n",
    "        subplotter.view_xy()\n",
    "\n",
    "        subplotter.subplot(0, 1)\n",
    "        subplotter.add_text(\"Warped function\", position=\"upper_edge\", font_size=14, color=\"black\")\n",
    "        subplotter.add_mesh(warped)\n",
    "        subplotter.add_mesh(contours, color=\"blue\", line_width=1)\n",
    "\n",
    "        subplotter.show()\n",
    "\n",
    "        # Plot\n",
    "        # plotter = pv.Plotter(notebook=True)\n",
    "        # plotter.add_mesh(grid scalars=\"u\", cmap=\"rainbow\")\n",
    "        # plotter.view_xy()\n",
    "        # plotter.add_text(f\"Eigenfunction {i}, λ = {eigval:.2f}\", font_size=12)\n",
    "        # plotter.show()\n",
    "\n",
    "# Usage example (after solving eigenproblem):\n",
    "# plot_eigenfunctions(domain, V, eigensolver, A, n_conv, nev_to_plot=6)\n"
   ]
  },
  {
   "cell_type": "code",
   "execution_count": null,
   "id": "7267f925",
   "metadata": {},
   "outputs": [],
   "source": [
    "plot_eigenfunctions(domain, V, eigensolver, A, n_conv)"
   ]
  },
  {
   "cell_type": "code",
   "execution_count": null,
   "id": "36b2dc57",
   "metadata": {},
   "outputs": [],
   "source": []
  },
  {
   "cell_type": "code",
   "execution_count": null,
   "id": "3a3109f9",
   "metadata": {},
   "outputs": [],
   "source": []
  }
 ],
 "metadata": {
  "kernelspec": {
   "display_name": "fenicsx-env",
   "language": "python",
   "name": "python3"
  },
  "language_info": {
   "codemirror_mode": {
    "name": "ipython",
    "version": 3
   },
   "file_extension": ".py",
   "mimetype": "text/x-python",
   "name": "python",
   "nbconvert_exporter": "python",
   "pygments_lexer": "ipython3",
   "version": "3.13.3"
  }
 },
 "nbformat": 4,
 "nbformat_minor": 5
}
