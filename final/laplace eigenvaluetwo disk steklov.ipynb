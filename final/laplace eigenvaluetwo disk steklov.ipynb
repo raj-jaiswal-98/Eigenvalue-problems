{
 "cells": [
  {
   "cell_type": "markdown",
   "id": "21a8f9bd",
   "metadata": {},
   "source": [
    "BVP\n",
    "\n",
    "laplace equation\n",
    "concentric balls around center (0, 0) - drichlet bc on both the surfaces\n",
    "smallest eigenvalues and functions"
   ]
  },
  {
   "cell_type": "code",
   "execution_count": 1,
   "id": "de85bece",
   "metadata": {},
   "outputs": [],
   "source": [
    "import numpy as np\n",
    "import ufl\n",
    "from mpi4py import MPI\n",
    "from petsc4py import PETSc\n",
    "from slepc4py import SLEPc\n",
    "import pyvista as pv\n",
    "from dolfinx import mesh, fem, plot"
   ]
  },
  {
   "cell_type": "markdown",
   "id": "b2d3f9bc",
   "metadata": {},
   "source": [
    "#1 generate concentric balls domain of radius 5 and 1   drichlet drichlet "
   ]
  },
  {
   "cell_type": "code",
   "execution_count": 2,
   "id": "71f8e1d2",
   "metadata": {},
   "outputs": [],
   "source": [
    "inner_radius = 1.0\n",
    "outer_radius = 5.0"
   ]
  },
  {
   "cell_type": "code",
   "execution_count": 3,
   "id": "b7ef3d5f",
   "metadata": {},
   "outputs": [],
   "source": [
    "import gmsh\n",
    "from dolfinx.io import gmshio\n",
    "# import meshio\n",
    "\n",
    "\n",
    "def get_domain(inner_radius: float, outer_radius: float, filename: str = None):\n",
    "    \"\"\"\n",
    "    inner_radius: float, \n",
    "    outer_radius: float\n",
    "    \"\"\"\n",
    "\n",
    "    # if filename is not None:\n",
    "        \n",
    "        \n",
    "\n",
    "\n",
    "    gmsh.initialize()\n",
    "    model = gmsh.model()\n",
    "    model.add(\"domain\")\n",
    "    model.setCurrent(\"domain\")\n",
    "\n",
    "\n",
    "    outer_disk = model.occ.addDisk(0, 0, 0, outer_radius,outer_radius, tag=1)\n",
    "    inner_disk = model.occ.addDisk(2, 0, 0, inner_radius,inner_radius, tag=2)\n",
    "    shell_dims_tags, _ = model.occ.cut( #perform boolean cut\n",
    "        [(2, outer_disk)], #target sphere\n",
    "        [(2, inner_disk)]  # tool sphere\n",
    "    )\n",
    "    model.occ.synchronize()\n",
    "\n",
    "    #define boundaries\n",
    "\n",
    "    #tag inner and outer surface\n",
    "    # boundary = model.getBoundary(shell_dims_tags)\n",
    "    boundary = model.getBoundary(shell_dims_tags, oriented=False)\n",
    "    print(boundary)\n",
    "    outer_surface = boundary[0][1]\n",
    "    inner_surface = boundary[1][1]\n",
    "\n",
    "    #add physical group\n",
    "    model.addPhysicalGroup(2, [outer_surface], tag = 1)\n",
    "    model.addPhysicalGroup(2, [inner_surface], tag = 2)\n",
    "    model.addPhysicalGroup(2, [shell_dims_tags[0][1]], tag = 3) #volume\n",
    "    \n",
    "\n",
    "    #set mesh options and generate mesh\n",
    "    gmsh.option.setNumber(\"Mesh.MeshSizeFactor\", 0.1)\n",
    "    # gmsh.option.setNumber(\"Mesh.MeshSizeMin\", 0.1)\n",
    "    # gmsh.option.setNumber(\"Mesh.MeshSizeMax\", 0.1)\n",
    "    # model.occ.synchronize()\n",
    "    model.geo.synchronize()\n",
    "    model.mesh.generate(2)\n",
    "    gmsh.fltk.run()\n",
    "    # gmsh.write(\"spherical_shell.msh\")  # Export to file\n",
    "    \n",
    "\n",
    "\n",
    "    #get domain from mesh\n",
    "    domain, cell_markers, facet_markers = gmshio.model_to_mesh(model=model, comm=MPI.COMM_WORLD, rank = 0, gdim = 2)\n",
    "\n",
    "    \n",
    "    \n",
    "    # gmsh.write(\"Sphere.xmdf\")\n",
    "\n",
    "    gmsh.finalize()\n",
    "    return domain, cell_markers, facet_markers"
   ]
  },
  {
   "cell_type": "code",
   "execution_count": 4,
   "id": "2119b363",
   "metadata": {},
   "outputs": [],
   "source": [
    "from dolfinx import plot\n",
    "import pyvista\n",
    "\n",
    "def plot_domain(domain):\n",
    "\n",
    "    pyvista.start_xvfb()\n",
    "    gdim = domain.topology.dim #dimensions of domain!\n",
    "\n",
    "    domain.topology.create_connectivity(gdim, gdim)\n",
    "    topology, cell_types, geometry = plot.vtk_mesh(domain, gdim)\n",
    "    grid = pyvista.UnstructuredGrid(topology, cell_types, geometry)\n",
    "    plotter = pyvista.Plotter()\n",
    "    plotter.add_mesh(grid, show_edges=True)\n",
    "    plotter.view_xy()\n",
    "    if not pyvista.OFF_SCREEN:\n",
    "        plotter.show()\n",
    "    else:\n",
    "        figure = plotter.screenshot(\"fundamentals_mesh.png\")\n",
    "\n"
   ]
  },
  {
   "cell_type": "code",
   "execution_count": 5,
   "id": "800cfbf7",
   "metadata": {},
   "outputs": [],
   "source": [
    "from dolfinx import fem\n",
    "import ufl\n",
    "\n",
    "def calculate_volume(domain, cell_markers):\n",
    "\n",
    "    dx = ufl.Measure(\"dx\", domain=domain, subdomain_data=cell_markers)\n",
    "\n",
    "    # Total volume\n",
    "    total_volume = fem.assemble_scalar(fem.form(1.0 * dx))\n",
    "    print(f\"Total volume: {total_volume:.4f}\")\n",
    "\n",
    "    # Subdomain volume (e.g., physical group 1)\n",
    "    subdomain_volume = fem.assemble_scalar(fem.form(1.0 * dx(1)))\n",
    "    print(f\"Subdomain volume: {subdomain_volume:.4f}\")\n"
   ]
  },
  {
   "cell_type": "code",
   "execution_count": 6,
   "id": "b5ffc28d",
   "metadata": {},
   "outputs": [
    {
     "name": "stdout",
     "output_type": "stream",
     "text": [
      "[(1, 2), (1, 3)]                                                                                                                               \n",
      "Info    : Meshing 1D...\n",
      "Info    : [  0%] Meshing curve 2 (Ellipse)\n",
      "Info    : [ 60%] Meshing curve 3 (Ellipse)\n",
      "Info    : Done meshing 1D (Wall 0.000496089s, CPU 0.000433s)\n",
      "Info    : Meshing 2D...\n",
      "Info    : Meshing surface 1 (Plane, Frontal-Delaunay)\n",
      "Info    : Done meshing 2D (Wall 0.130258s, CPU 0.127707s)\n",
      "Info    : 4608 nodes 9218 elements\n"
     ]
    },
    {
     "name": "stderr",
     "output_type": "stream",
     "text": [
      "Warning : Unknown entity of dimension 2 and tag 2 in physical group 1\n",
      "Warning : Unknown entity of dimension 2 and tag 3 in physical group 2\n",
      "Warning : Skipping unknown surface 2 in physical surface 1\n",
      "Warning : Skipping unknown surface 3 in physical surface 2\n",
      "X_ChangeProperty: BadValue (integer parameter out of range for operation) 0x0\n"
     ]
    },
    {
     "name": "stdout",
     "output_type": "stream",
     "text": [
      "-------------------------------------------------------\n",
      "Version       : 4.13.1\n",
      "License       : GNU General Public License\n",
      "Build OS      : Linux64-sdk\n",
      "Build date    : 20241016\n",
      "Build host    : 2976249cf102\n",
      "Build options : 64Bit ALGLIB[contrib] ANN[contrib] Bamg Blossom Cairo DIntegration Dlopen DomHex Eigen[contrib] Fltk GMP Gmm[contrib] Hxt Jpeg Kbipack LinuxJoystick MathEx[contrib] Mesh Metis[contrib] Mpeg Netgen Nii2mesh ONELAB ONELABMetamodel OpenCASCADE OpenCASCADE-CAF OpenGL OpenMP OptHom Parser Plugins Png Post QuadMeshingTools QuadTri Solver TetGen/BR TinyXML2[contrib] Untangle Voro++[contrib] WinslowUntangler Zlib\n",
      "FLTK version  : 1.3.9\n",
      "OCC version   : 7.8.1\n",
      "Packaged by   : conda\n",
      "Web site      : https://gmsh.info\n",
      "Issue tracker : https://gitlab.onelab.info/gmsh/gmsh/issues\n",
      "-------------------------------------------------------\n"
     ]
    }
   ],
   "source": [
    "domain, cell_markers, facet_markers = get_domain(inner_radius, outer_radius)\n",
    "# plot_domain(domain)"
   ]
  },
  {
   "cell_type": "code",
   "execution_count": 7,
   "id": "07d525d0",
   "metadata": {},
   "outputs": [],
   "source": [
    "# calculate_volume(domain, cell_markers)"
   ]
  },
  {
   "cell_type": "markdown",
   "id": "5f1fb3df",
   "metadata": {},
   "source": [
    "#2 Setup function space and apply boundary conditions"
   ]
  },
  {
   "cell_type": "code",
   "execution_count": 8,
   "id": "6ed1c264",
   "metadata": {},
   "outputs": [],
   "source": [
    "def setup_fe_space(domain):\n",
    "    \"\"\"Create function space and variational forms. Defining bilinear and linear forms.\"\"\"\n",
    "    V = fem.functionspace(domain, (\"Lagrange\", 1))\n",
    "\n",
    "    u, v = ufl.TrialFunction(V), ufl.TestFunction(V)\n",
    "    a = fem.form(ufl.inner(ufl.grad(u), ufl.grad(v))*ufl.dx)\n",
    "    m = fem.form(ufl.inner(u, v)*ufl.dx)\n",
    "\n",
    "    return V, a, m\n"
   ]
  },
  {
   "cell_type": "code",
   "execution_count": 9,
   "id": "9b883572",
   "metadata": {},
   "outputs": [],
   "source": [
    "V, a, m = setup_fe_space(domain)"
   ]
  },
  {
   "cell_type": "markdown",
   "id": "5f5cab66",
   "metadata": {},
   "source": [
    "preparing boundary conditions\n",
    "Drichlet BC u = 0"
   ]
  },
  {
   "cell_type": "code",
   "execution_count": 10,
   "id": "3daa2b25",
   "metadata": {},
   "outputs": [],
   "source": [
    "from petsc4py import PETSc\n",
    "def on_boundary(x):\n",
    "    return np.isclose(np.sqrt((x[0]-2)**2 + x[1]**2), inner_radius)\n",
    "\n",
    "def get_bcs(V):\n",
    "    boundary_dofs = fem.locate_dofs_geometrical(V, on_boundary)\n",
    "    bc = fem.dirichletbc(PETSc.ScalarType(0), boundary_dofs, V)\n",
    "\n",
    "    return bc\n"
   ]
  },
  {
   "cell_type": "markdown",
   "id": "da1e50fd",
   "metadata": {},
   "source": [
    "#3 assemble matrices and apply boundary conditions"
   ]
  },
  {
   "cell_type": "code",
   "execution_count": 11,
   "id": "7d7bee7a",
   "metadata": {},
   "outputs": [],
   "source": [
    "import dolfinx.fem.petsc\n",
    "\n",
    "def assemble_and_apply_bc(V, a, m):\n",
    "\n",
    "    #get bcs\n",
    "\n",
    "    bc = get_bcs(V)\n",
    "\n",
    "    #  Assemble matrices A and M\n",
    "\n",
    "    A = fem.petsc.assemble_matrix(a, bcs=[bc]) #bc only on stiffness matrix\n",
    "    A.assemble()\n",
    "    M = fem.petsc.assemble_matrix(m) # mass matrix\n",
    "    M.assemble()\n",
    "\n",
    "    # null_vec = A.createVecLeft()   #for neumann problem\n",
    "    # null_vec.set(1.0)\n",
    "    # null_vec.normalize()\n",
    "    # nullspace = PETSc.NullSpace().create(vectors=[null_vec])\n",
    "    # A.setNullSpace(nullspace)\n",
    "\n",
    "    return A, M\n",
    "\n"
   ]
  },
  {
   "cell_type": "code",
   "execution_count": 12,
   "id": "26d417dd",
   "metadata": {},
   "outputs": [],
   "source": [
    "A, M = assemble_and_apply_bc(V, a, m)"
   ]
  },
  {
   "cell_type": "code",
   "execution_count": 13,
   "id": "713874cf",
   "metadata": {},
   "outputs": [
    {
     "name": "stdout",
     "output_type": "stream",
     "text": [
      "A nnz: {'block_size': 1.0, 'nz_allocated': 31720.0, 'nz_used': 31720.0, 'nz_unneeded': 0.0, 'memory': 0.0, 'assemblies': 1.0, 'mallocs': 0.0, 'fill_ratio_given': 0.0, 'fill_ratio_needed': 0.0, 'factor_mallocs': 0.0}\n",
      "M nnz: {'block_size': 1.0, 'nz_allocated': 31720.0, 'nz_used': 31720.0, 'nz_unneeded': 0.0, 'memory': 0.0, 'assemblies': 1.0, 'mallocs': 0.0, 'fill_ratio_given': 0.0, 'fill_ratio_needed': 0.0, 'factor_mallocs': 0.0}\n"
     ]
    }
   ],
   "source": [
    "print(\"A nnz:\", A.getInfo())\n",
    "print(\"M nnz:\", M.getInfo())\n"
   ]
  },
  {
   "cell_type": "code",
   "execution_count": 14,
   "id": "c83c270f",
   "metadata": {},
   "outputs": [
    {
     "name": "stdout",
     "output_type": "stream",
     "text": [
      "249.63787608343574\n",
      "0.6065066932100723\n"
     ]
    }
   ],
   "source": [
    "print(A.norm())\n",
    "print(M.norm())"
   ]
  },
  {
   "cell_type": "markdown",
   "id": "921cccdc",
   "metadata": {},
   "source": [
    "setup eigenvalue solver"
   ]
  },
  {
   "cell_type": "code",
   "execution_count": 15,
   "id": "c0e2c5ca",
   "metadata": {},
   "outputs": [],
   "source": [
    "\n",
    "def get_eigenvalues(A, M, n_eigen):\n",
    "\n",
    "    eigensolver = SLEPc.EPS().create()\n",
    "    eigensolver.setOperators(A, M)\n",
    "    eigensolver.setProblemType(SLEPc.EPS.ProblemType.GHEP)\n",
    "    # eigensolver.setDimensions(nev=n_eigen, ncv=2*n_eigen)  # Larger subspace\n",
    "    eigensolver.setDimensions(nev=n_eigen)  # Larger subspace\n",
    "    # eigensolver.setTolerances(tol=1e-8, max_it=1000)\n",
    "    eigensolver.setWhichEigenpairs(SLEPc.EPS.Which.SMALLEST_REAL)\n",
    "\n",
    "    eigensolver.setFromOptions()\n",
    "    eigensolver.solve()\n",
    "    n_conv = eigensolver.getConverged()\n",
    "\n",
    "    if MPI.COMM_WORLD.rank == 0:\n",
    "        print(f\"Number of converged eigenvalues: {n_conv}\")\n",
    "\n",
    "\n",
    "    return eigensolver, n_conv"
   ]
  },
  {
   "cell_type": "code",
   "execution_count": 16,
   "id": "bf8f8aa8",
   "metadata": {},
   "outputs": [
    {
     "name": "stdout",
     "output_type": "stream",
     "text": [
      "Number of converged eigenvalues: 5\n"
     ]
    }
   ],
   "source": [
    "n_eigen = 5\n",
    "eigensolver, n_conv = get_eigenvalues(A, M, n_eigen=n_eigen)"
   ]
  },
  {
   "cell_type": "code",
   "execution_count": 17,
   "id": "f79aeb45",
   "metadata": {},
   "outputs": [],
   "source": [
    "import matplotlib.pyplot as plt\n",
    "import numpy as np\n",
    "import dolfinx.plot\n",
    "\n",
    "def plot_eigenfunctions(domain, V, eigensolver, A, nev_to_plot):\n",
    "    \"\"\"\n",
    "    Plot the first few eigenfunctions for any given domain using matplotlib.\n",
    "    Parameters:\n",
    "        domain: dolfinx.mesh.Mesh\n",
    "        V: dolfinx.fem.FunctionSpace\n",
    "        eigensolver: SLEPc.EPS\n",
    "        A: PETSc.Mat (needed for getVecs)\n",
    "        n_conv: int (number of converged eigenpairs)\n",
    "        nev_to_plot: int (number of eigenfunctions to plot)\n",
    "    \"\"\"\n",
    "    if nev_to_plot == 0:\n",
    "        return\n",
    "    \n",
    "    if MPI.COMM_WORLD.rank != 0:\n",
    "        return\n",
    "\n",
    "    topology, cell_types, geometry = plot.vtk_mesh(V)\n",
    "    points = domain.geometry.x\n",
    "    for i in range(nev_to_plot):\n",
    "        eigval = eigensolver.getEigenvalue(i)\n",
    "        error = eigensolver.computeError(i)\n",
    "\n",
    "        print(f\"Eigenvalue {i}: {eigval:.4f} (Error: {error:.2e})\")\n",
    "\n",
    "        r, _ = A.getVecs()\n",
    "        eigensolver.getEigenvector(i, r)\n",
    "\n",
    "        uh = fem.Function(V)\n",
    "        uh.x.petsc_vec.setArray(r.array)\n",
    "        uh.x.petsc_vec.ghostUpdate(addv=PETSc.InsertMode.INSERT, mode=PETSc.ScatterMode.FORWARD)\n",
    "\n",
    "        # Create PyVista grid\n",
    "        values = uh.x.array.real\n",
    "        grid = pv.UnstructuredGrid(topology, cell_types, points)\n",
    "        grid.point_data[\"u\"] = values\n",
    "\n",
    "        # Plot\n",
    "        plotter = pv.Plotter(notebook=True)\n",
    "        plotter.add_mesh(grid, scalars=\"u\", cmap=\"jet\")\n",
    "        plotter.view_xy()\n",
    "        plotter.add_text(f\"Eigenfunction {i}, λ = {eigval:.2f}\", font_size=12)\n",
    "        plotter.show()\n",
    "\n",
    "# Usage example (after solving eigenproblem):\n",
    "# plot_eigenfunctions(domain, V, eigensolver, A, n_conv, nev_to_plot=6)\n"
   ]
  },
  {
   "cell_type": "code",
   "execution_count": 18,
   "id": "7267f925",
   "metadata": {},
   "outputs": [
    {
     "name": "stdout",
     "output_type": "stream",
     "text": [
      "Eigenvalue 0: 0.0524 (Error: 1.53e-06)\n"
     ]
    },
    {
     "data": {
      "application/vnd.jupyter.widget-view+json": {
       "model_id": "56b828395c504455a0b92cdea7b4d9e3",
       "version_major": 2,
       "version_minor": 0
      },
      "text/plain": [
       "Widget(value='<iframe src=\"http://localhost:42205/index.html?ui=P_0x777a3ebc5550_0&reconnect=auto\" class=\"pyvi…"
      ]
     },
     "metadata": {},
     "output_type": "display_data"
    },
    {
     "name": "stdout",
     "output_type": "stream",
     "text": [
      "Eigenvalue 1: 0.1545 (Error: 5.08e-07)\n"
     ]
    },
    {
     "data": {
      "application/vnd.jupyter.widget-view+json": {
       "model_id": "5b61caf46b784780ba864c9823c33a5c",
       "version_major": 2,
       "version_minor": 0
      },
      "text/plain": [
       "Widget(value='<iframe src=\"http://localhost:42205/index.html?ui=P_0x777a3c08e0d0_1&reconnect=auto\" class=\"pyvi…"
      ]
     },
     "metadata": {},
     "output_type": "display_data"
    },
    {
     "name": "stdout",
     "output_type": "stream",
     "text": [
      "Eigenvalue 2: 0.2535 (Error: 3.98e-08)\n"
     ]
    },
    {
     "data": {
      "application/vnd.jupyter.widget-view+json": {
       "model_id": "1ad3c9dba9f44c6cbdc726fd1230f246",
       "version_major": 2,
       "version_minor": 0
      },
      "text/plain": [
       "Widget(value='<iframe src=\"http://localhost:42205/index.html?ui=P_0x777a3c08df90_2&reconnect=auto\" class=\"pyvi…"
      ]
     },
     "metadata": {},
     "output_type": "display_data"
    },
    {
     "name": "stdout",
     "output_type": "stream",
     "text": [
      "Eigenvalue 3: 0.4060 (Error: 1.72e-07)\n"
     ]
    },
    {
     "data": {
      "application/vnd.jupyter.widget-view+json": {
       "model_id": "ec7e474b7a034cc79c75d57ce07ad837",
       "version_major": 2,
       "version_minor": 0
      },
      "text/plain": [
       "Widget(value='<iframe src=\"http://localhost:42205/index.html?ui=P_0x777a3c08f4d0_3&reconnect=auto\" class=\"pyvi…"
      ]
     },
     "metadata": {},
     "output_type": "display_data"
    },
    {
     "name": "stdout",
     "output_type": "stream",
     "text": [
      "Eigenvalue 4: 0.4739 (Error: 1.64e-08)\n"
     ]
    },
    {
     "data": {
      "application/vnd.jupyter.widget-view+json": {
       "model_id": "9fdba818e26a491eb675ea7d2945bca0",
       "version_major": 2,
       "version_minor": 0
      },
      "text/plain": [
       "Widget(value='<iframe src=\"http://localhost:42205/index.html?ui=P_0x777a3bfb4690_4&reconnect=auto\" class=\"pyvi…"
      ]
     },
     "metadata": {},
     "output_type": "display_data"
    }
   ],
   "source": [
    "plot_eigenfunctions(domain, V, eigensolver, A, n_conv)"
   ]
  },
  {
   "cell_type": "code",
   "execution_count": null,
   "id": "36b2dc57",
   "metadata": {},
   "outputs": [],
   "source": []
  },
  {
   "cell_type": "code",
   "execution_count": null,
   "id": "3a3109f9",
   "metadata": {},
   "outputs": [],
   "source": []
  }
 ],
 "metadata": {
  "kernelspec": {
   "display_name": "fenicsx-env",
   "language": "python",
   "name": "python3"
  },
  "language_info": {
   "codemirror_mode": {
    "name": "ipython",
    "version": 3
   },
   "file_extension": ".py",
   "mimetype": "text/x-python",
   "name": "python",
   "nbconvert_exporter": "python",
   "pygments_lexer": "ipython3",
   "version": "3.13.3"
  }
 },
 "nbformat": 4,
 "nbformat_minor": 5
}
