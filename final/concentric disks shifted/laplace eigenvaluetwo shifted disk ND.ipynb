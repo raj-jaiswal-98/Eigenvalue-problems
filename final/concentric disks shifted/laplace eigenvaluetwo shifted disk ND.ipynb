{
 "cells": [
  {
   "cell_type": "markdown",
   "id": "21a8f9bd",
   "metadata": {},
   "source": [
    "BVP\n",
    "\n",
    "laplace equation\n",
    "concentric balls around center (0, 0) - drichlet bc on both the surfaces\n",
    "smallest eigenvalues and functions"
   ]
  },
  {
   "cell_type": "code",
   "execution_count": 1,
   "id": "de85bece",
   "metadata": {},
   "outputs": [],
   "source": [
    "import numpy as np\n",
    "import ufl\n",
    "from mpi4py import MPI\n",
    "from petsc4py import PETSc\n",
    "from slepc4py import SLEPc\n",
    "import pyvista as pv\n",
    "from dolfinx import mesh, fem, plot"
   ]
  },
  {
   "cell_type": "markdown",
   "id": "b2d3f9bc",
   "metadata": {},
   "source": [
    "#1 generate concentric balls domain of radius 5 and 1   drichlet drichlet "
   ]
  },
  {
   "cell_type": "code",
   "execution_count": 2,
   "id": "71f8e1d2",
   "metadata": {},
   "outputs": [],
   "source": [
    "inner_radius = 1.0\n",
    "outer_radius = 5.0"
   ]
  },
  {
   "cell_type": "code",
   "execution_count": 3,
   "id": "b7ef3d5f",
   "metadata": {},
   "outputs": [],
   "source": [
    "import gmsh\n",
    "from dolfinx.io import gmshio\n",
    "\n",
    "def get_domain(inner_radius: float, outer_radius: float, filename: str = None):\n",
    "    \"\"\"\n",
    "    inner_radius: float, \n",
    "    outer_radius: float\n",
    "    \"\"\"\n",
    "\n",
    "    gmsh.initialize()\n",
    "    model = gmsh.model()\n",
    "    model.add(\"domain\")\n",
    "    model.setCurrent(\"domain\")\n",
    "\n",
    "\n",
    "    outer_disk = model.occ.addDisk(0, 0, 0, outer_radius,outer_radius, tag=1)\n",
    "    inner_disk = model.occ.addDisk(2, 0, 0, inner_radius,inner_radius, tag=2)\n",
    "    shell_dims_tags, _ = model.occ.cut( #perform boolean cut\n",
    "        [(2, outer_disk)], #target disk\n",
    "        [(2, inner_disk)]  # tool disk\n",
    "    )\n",
    "    model.occ.synchronize()\n",
    "    model.addPhysicalGroup(2, [shell_dims_tags[0][1]], tag = 1) #remaining area\n",
    "    \n",
    "\n",
    "    #set mesh options and generate mesh\n",
    "    gmsh.option.setNumber(\"Mesh.MeshSizeFactor\", 0.1)\n",
    "    # gmsh.option.setNumber(\"Mesh.MeshSizeMin\", 0.1)\n",
    "    # gmsh.option.setNumber(\"Mesh.MeshSizeMax\", 0.1)\n",
    "    model.geo.synchronize()\n",
    "    model.mesh.generate(2)\n",
    "    # gmsh.fltk.run()\n",
    "    # gmsh.write(\"spherical_shell.msh\")  # Export to file\n",
    "    \n",
    "\n",
    "\n",
    "    #get domain from mesh\n",
    "    domain, cell_markers, facet_markers = gmshio.model_to_mesh(model=model, comm=MPI.COMM_WORLD, rank = 0, gdim = 2)\n",
    "    # gmsh.write(\"Sphere.xmdf\") #save mesh\n",
    "\n",
    "    gmsh.finalize()\n",
    "    return domain, cell_markers, facet_markers"
   ]
  },
  {
   "cell_type": "markdown",
   "id": "43ba9119",
   "metadata": {},
   "source": [
    "For plotting domain!"
   ]
  },
  {
   "cell_type": "code",
   "execution_count": 4,
   "id": "2119b363",
   "metadata": {},
   "outputs": [],
   "source": [
    "# from dolfinx import plot\n",
    "# import pyvista\n",
    "\n",
    "# def plot_domain(domain):\n",
    "\n",
    "#     pyvista.start_xvfb()\n",
    "#     gdim = domain.topology.dim #dimensions of domain!\n",
    "\n",
    "#     domain.topology.create_connectivity(gdim, gdim)\n",
    "#     topology, cell_types, geometry = plot.vtk_mesh(domain, gdim)\n",
    "#     grid = pyvista.UnstructuredGrid(topology, cell_types, geometry)\n",
    "#     plotter = pyvista.Plotter()\n",
    "#     plotter.add_mesh(grid)\n",
    "#     plotter.view_xy()\n",
    "#     if not pyvista.OFF_SCREEN:\n",
    "#         plotter.show()\n",
    "#     else:\n",
    "#         figure = plotter.screenshot(\"fundamentals_mesh.png\")\n",
    "\n"
   ]
  },
  {
   "cell_type": "code",
   "execution_count": 5,
   "id": "800cfbf7",
   "metadata": {},
   "outputs": [],
   "source": [
    "# from dolfinx import fem\n",
    "# import ufl\n",
    "\n",
    "# def calculate_volume(domain, cell_markers):\n",
    "\n",
    "#     dx = ufl.Measure(\"dx\", domain=domain, subdomain_data=cell_markers)\n",
    "\n",
    "#     # Total volume\n",
    "#     total_volume = fem.assemble_scalar(fem.form(1.0 * dx))\n",
    "#     print(f\"Total volume: {total_volume:.4f}\")\n",
    "\n",
    "#     # Subdomain volume (e.g., physical group 1)\n",
    "#     subdomain_volume = fem.assemble_scalar(fem.form(1.0 * dx(1)))\n",
    "#     print(f\"Subdomain volume: {subdomain_volume:.4f}\")\n"
   ]
  },
  {
   "cell_type": "code",
   "execution_count": 6,
   "id": "b5ffc28d",
   "metadata": {},
   "outputs": [
    {
     "name": "stdout",
     "output_type": "stream",
     "text": [
      "Info    : Meshing 1D...                                                                                                                        \n",
      "Info    : [  0%] Meshing curve 2 (Ellipse)\n",
      "Info    : [ 60%] Meshing curve 3 (Ellipse)\n",
      "Info    : Done meshing 1D (Wall 0.000382977s, CPU 0s)\n",
      "Info    : Meshing 2D...\n",
      "Info    : Meshing surface 1 (Plane, Frontal-Delaunay)\n",
      "Info    : Done meshing 2D (Wall 0.218738s, CPU 0.209992s)\n",
      "Info    : 4608 nodes 9218 elements\n"
     ]
    }
   ],
   "source": [
    "domain, cell_markers, facet_markers = get_domain(inner_radius, outer_radius)\n",
    "# plot_domain(domain)"
   ]
  },
  {
   "cell_type": "code",
   "execution_count": 7,
   "id": "07d525d0",
   "metadata": {},
   "outputs": [],
   "source": [
    "# calculate_volume(domain, cell_markers)"
   ]
  },
  {
   "cell_type": "markdown",
   "id": "5f1fb3df",
   "metadata": {},
   "source": [
    "#2 Setup function space and apply boundary conditions"
   ]
  },
  {
   "cell_type": "code",
   "execution_count": 8,
   "id": "6ed1c264",
   "metadata": {},
   "outputs": [],
   "source": [
    "def setup_fe_space(domain):\n",
    "    \"\"\"Create function space and variational forms. Defining bilinear and linear forms.\"\"\"\n",
    "    V = fem.functionspace(domain, (\"Lagrange\", 1)) #set function space\n",
    "\n",
    "    u, v = ufl.TrialFunction(V), ufl.TestFunction(V)\n",
    "    a = fem.form(ufl.inner(ufl.grad(u), ufl.grad(v))*ufl.dx)\n",
    "    m = fem.form(ufl.inner(u, v)*ufl.dx)\n",
    "\n",
    "    return V, a, m\n"
   ]
  },
  {
   "cell_type": "code",
   "execution_count": 9,
   "id": "9b883572",
   "metadata": {},
   "outputs": [],
   "source": [
    "V, a, m = setup_fe_space(domain)"
   ]
  },
  {
   "cell_type": "markdown",
   "id": "5f5cab66",
   "metadata": {},
   "source": [
    "preparing boundary conditions\n",
    "Drichlet BC u = 0"
   ]
  },
  {
   "cell_type": "code",
   "execution_count": 10,
   "id": "3daa2b25",
   "metadata": {},
   "outputs": [],
   "source": [
    "from petsc4py import PETSc\n",
    "def on_boundary(x):\n",
    "    return np.isclose(np.sqrt((x[0])**2 + x[1]**2), outer_radius)\n",
    "\n",
    "def get_bcs(V):\n",
    "    boundary_dofs = fem.locate_dofs_geometrical(V, on_boundary)\n",
    "    bc = fem.dirichletbc(PETSc.ScalarType(0), boundary_dofs, V)\n",
    "\n",
    "    return bc\n"
   ]
  },
  {
   "cell_type": "markdown",
   "id": "da1e50fd",
   "metadata": {},
   "source": [
    "#3 assemble matrices and apply boundary conditions"
   ]
  },
  {
   "cell_type": "code",
   "execution_count": 11,
   "id": "7d7bee7a",
   "metadata": {},
   "outputs": [],
   "source": [
    "import dolfinx.fem.petsc\n",
    "\n",
    "def assemble_and_apply_bc(V, a, m):\n",
    "\n",
    "    #get bcs\n",
    "\n",
    "    bc = get_bcs(V)\n",
    "\n",
    "    #  Assemble matrices A and M\n",
    "\n",
    "    A = fem.petsc.assemble_matrix(a, bcs=[bc]) #bc only on stiffness matrix\n",
    "    A.assemble()\n",
    "    M = fem.petsc.assemble_matrix(m) # mass matrix\n",
    "    M.assemble()\n",
    "\n",
    "    # null_vec = A.createVecLeft()   #for neumann problem\n",
    "    # null_vec.set(1.0)\n",
    "    # null_vec.normalize()\n",
    "    # nullspace = PETSc.NullSpace().create(vectors=[null_vec])\n",
    "    # A.setNullSpace(nullspace)\n",
    "\n",
    "    return A, M\n",
    "\n"
   ]
  },
  {
   "cell_type": "code",
   "execution_count": 12,
   "id": "26d417dd",
   "metadata": {},
   "outputs": [],
   "source": [
    "A, M = assemble_and_apply_bc(V, a, m)"
   ]
  },
  {
   "cell_type": "code",
   "execution_count": 13,
   "id": "713874cf",
   "metadata": {},
   "outputs": [
    {
     "name": "stdout",
     "output_type": "stream",
     "text": [
      "A nnz: {'block_size': 1.0, 'nz_allocated': 31720.0, 'nz_used': 31720.0, 'nz_unneeded': 0.0, 'memory': 0.0, 'assemblies': 1.0, 'mallocs': 0.0, 'fill_ratio_given': 0.0, 'fill_ratio_needed': 0.0, 'factor_mallocs': 0.0}\n",
      "M nnz: {'block_size': 1.0, 'nz_allocated': 31720.0, 'nz_used': 31720.0, 'nz_unneeded': 0.0, 'memory': 0.0, 'assemblies': 1.0, 'mallocs': 0.0, 'fill_ratio_given': 0.0, 'fill_ratio_needed': 0.0, 'factor_mallocs': 0.0}\n"
     ]
    }
   ],
   "source": [
    "print(\"A nnz:\", A.getInfo())\n",
    "print(\"M nnz:\", M.getInfo())\n"
   ]
  },
  {
   "cell_type": "code",
   "execution_count": 14,
   "id": "c83c270f",
   "metadata": {},
   "outputs": [
    {
     "name": "stdout",
     "output_type": "stream",
     "text": [
      "248.35327896399866\n",
      "0.6065066932100723\n"
     ]
    }
   ],
   "source": [
    "print(A.norm())\n",
    "print(M.norm())"
   ]
  },
  {
   "cell_type": "markdown",
   "id": "921cccdc",
   "metadata": {},
   "source": [
    "setup eigenvalue solver"
   ]
  },
  {
   "cell_type": "code",
   "execution_count": 15,
   "id": "c0e2c5ca",
   "metadata": {},
   "outputs": [],
   "source": [
    "\n",
    "def get_eigenvalues(A, M, n_eigen):\n",
    "\n",
    "    eigensolver = SLEPc.EPS().create()\n",
    "    eigensolver.setOperators(A, M)\n",
    "    eigensolver.setProblemType(SLEPc.EPS.ProblemType.GHEP)\n",
    "    # eigensolver.setDimensions(nev=n_eigen, ncv=2*n_eigen)  # Larger subspace\n",
    "    eigensolver.setDimensions(nev=n_eigen)  # Larger subspace\n",
    "    # eigensolver.setTolerances(tol=1e-8, max_it=1000)\n",
    "    eigensolver.setWhichEigenpairs(SLEPc.EPS.Which.SMALLEST_REAL)\n",
    "\n",
    "    eigensolver.setFromOptions()\n",
    "    eigensolver.solve()\n",
    "    n_conv = eigensolver.getConverged()\n",
    "\n",
    "    if MPI.COMM_WORLD.rank == 0:\n",
    "        print(f\"Number of converged eigenvalues: {n_conv}\")\n",
    "\n",
    "\n",
    "    return eigensolver, n_conv"
   ]
  },
  {
   "cell_type": "code",
   "execution_count": 16,
   "id": "bf8f8aa8",
   "metadata": {},
   "outputs": [
    {
     "name": "stdout",
     "output_type": "stream",
     "text": [
      "Number of converged eigenvalues: 6\n"
     ]
    }
   ],
   "source": [
    "n_eigen = 5\n",
    "eigensolver, n_conv = get_eigenvalues(A, M, n_eigen=n_eigen)"
   ]
  },
  {
   "cell_type": "code",
   "execution_count": 17,
   "id": "f79aeb45",
   "metadata": {},
   "outputs": [],
   "source": [
    "import matplotlib.pyplot as plt\n",
    "import numpy as np\n",
    "import dolfinx.plot\n",
    "from dolfinx.fem import Function, functionspace\n",
    "from dolfinx.mesh import CellType, compute_midpoints, create_unit_cube, create_unit_square, meshtags\n",
    "# import \n",
    "# Set some global options for all plots\n",
    "transparent = False\n",
    "figsize = 800\n",
    "\n",
    "\n",
    "def plot_eigenfunctions(domain, V, eigensolver, A, nev_to_plot):\n",
    "    \"\"\"\n",
    "    Plot the first few eigenfunctions for any given domain using matplotlib.\n",
    "    Parameters:\n",
    "        domain: dolfinx.mesh.Mesh\n",
    "        V: dolfinx.fem.FunctionSpace\n",
    "        eigensolver: SLEPc.EPS\n",
    "        A: PETSc.Mat (needed for getVecs)\n",
    "        n_conv: int (number of converged eigenpairs)\n",
    "        nev_to_plot: int (number of eigenfunctions to plot)\n",
    "    \"\"\"\n",
    "    if nev_to_plot == 0:\n",
    "        return\n",
    "    \n",
    "    if MPI.COMM_WORLD.rank != 0:\n",
    "        return\n",
    "\n",
    "    topology, cell_types, geometry = plot.vtk_mesh(V)\n",
    "    points = domain.geometry.x\n",
    "    for i in range(nev_to_plot):\n",
    "        eigval = eigensolver.getEigenvalue(i)\n",
    "        error = eigensolver.computeError(i)\n",
    "\n",
    "        print(f\"Eigenvalue {i}: {eigval:.4f} (Error: {error:.4e})\")\n",
    "\n",
    "        r, _ = A.getVecs()\n",
    "        eigensolver.getEigenvector(i, r)\n",
    "\n",
    "        uh = fem.Function(V)\n",
    "        uh.x.petsc_vec.setArray(r.array)\n",
    "        uh.x.petsc_vec.ghostUpdate(addv=PETSc.InsertMode.INSERT, mode=PETSc.ScatterMode.FORWARD)\n",
    "\n",
    "        # Create PyVista grid\n",
    "        values = uh.x.array.real\n",
    "        # grid = pv.UnstructuredGrid(topology, cell_types, points)\n",
    "        grid = pv.UnstructuredGrid(topology, cell_types, geometry)\n",
    "        grid.point_data[\"u\"] = values\n",
    "        # The function \"u\" is set as the active scalar for the mesh, and\n",
    "        # warp in z-direction is set\n",
    "        grid.set_active_scalars(\"u\")\n",
    "        warped = grid.warp_by_scalar('u', factor=25)\n",
    "        \n",
    "        \n",
    "        # Define the number of contour levels\n",
    "        contour_levels = 25\n",
    "\n",
    "        # Generate contours using the scalar data\n",
    "        contours = grid.contour(contour_levels, scalars=\"u\")\n",
    "\n",
    "        # A plotting window is created with two sub-plots, one of the scalar\n",
    "        # values and the other of the mesh is warped by the scalar values in\n",
    "        # z-direction\n",
    "        subplotter = pv.Plotter(shape=(1, 2))\n",
    "        subplotter.subplot(0, 0)\n",
    "        subplotter.add_text(\"Scalar contour field\", font_size=14, color=\"black\", position=\"upper_edge\")\n",
    "        subplotter.add_mesh(grid, show_scalar_bar=True, cmap=\"jet\")\n",
    "        subplotter.add_mesh(contours, color=\"blue\", line_width=1)\n",
    "        subplotter.view_xy()\n",
    "\n",
    "        contours_warp = warped.contour(contour_levels, scalars=\"u\")\n",
    "        \n",
    "        subplotter.subplot(0, 1)\n",
    "        subplotter.add_text(\"Warped function\", position=\"upper_edge\", font_size=14, color=\"black\")\n",
    "        \n",
    "        subplotter.add_mesh(warped, show_scalar_bar=True, cmap=\"jet\")\n",
    "        subplotter.add_mesh(contours_warp, color=\"blue\", line_width=1)\n",
    "\n",
    "\n",
    "        # if pyvista.OFF_SCREEN:\n",
    "        #     subplotter.screenshot(\n",
    "        #         \"2D_function_warp.png\",\n",
    "        #         transparent_background=transparent,\n",
    "        #         window_size=[figsize, figsize],\n",
    "        #     )\n",
    "        # else:\n",
    "        # subplotter.link_views()\n",
    "        subplotter.show()\n",
    "\n",
    "        \n",
    "\n",
    "# Usage example (after solving eigenproblem):\n",
    "# plot_eigenfunctions(domain, V, eigensolver, A, n_conv, nev_to_plot=6)\n"
   ]
  },
  {
   "cell_type": "code",
   "execution_count": 18,
   "id": "7267f925",
   "metadata": {},
   "outputs": [
    {
     "name": "stdout",
     "output_type": "stream",
     "text": [
      "Eigenvalue 0: 0.2371 (Error: 3.2805e-07)\n"
     ]
    },
    {
     "data": {
      "application/vnd.jupyter.widget-view+json": {
       "model_id": "b89c09246d604601a7bf0f364c58bd7d",
       "version_major": 2,
       "version_minor": 0
      },
      "text/plain": [
       "Widget(value='<iframe src=\"http://localhost:40727/index.html?ui=P_0x77eb560316a0_0&reconnect=auto\" class=\"pyvi…"
      ]
     },
     "metadata": {},
     "output_type": "display_data"
    },
    {
     "name": "stdout",
     "output_type": "stream",
     "text": [
      "Eigenvalue 1: 0.5306 (Error: 1.6766e-07)\n"
     ]
    },
    {
     "data": {
      "application/vnd.jupyter.widget-view+json": {
       "model_id": "3a8494fb500d4e419f0a0b3cfb7a2452",
       "version_major": 2,
       "version_minor": 0
      },
      "text/plain": [
       "Widget(value='<iframe src=\"http://localhost:40727/index.html?ui=P_0x77eb51d4e0d0_1&reconnect=auto\" class=\"pyvi…"
      ]
     },
     "metadata": {},
     "output_type": "display_data"
    },
    {
     "name": "stdout",
     "output_type": "stream",
     "text": [
      "Eigenvalue 2: 0.6585 (Error: 1.1247e-07)\n"
     ]
    },
    {
     "data": {
      "application/vnd.jupyter.widget-view+json": {
       "model_id": "f9adf509570d4f958de85928b00ecfc7",
       "version_major": 2,
       "version_minor": 0
      },
      "text/plain": [
       "Widget(value='<iframe src=\"http://localhost:40727/index.html?ui=P_0x77eb51d4df90_2&reconnect=auto\" class=\"pyvi…"
      ]
     },
     "metadata": {},
     "output_type": "display_data"
    },
    {
     "name": "stdout",
     "output_type": "stream",
     "text": [
      "Eigenvalue 3: 0.9780 (Error: 8.7550e-08)\n"
     ]
    },
    {
     "data": {
      "application/vnd.jupyter.widget-view+json": {
       "model_id": "016e6c2ed8ca4c11a5efef6b4deb5647",
       "version_major": 2,
       "version_minor": 0
      },
      "text/plain": [
       "Widget(value='<iframe src=\"http://localhost:40727/index.html?ui=P_0x77eb51d4f250_3&reconnect=auto\" class=\"pyvi…"
      ]
     },
     "metadata": {},
     "output_type": "display_data"
    },
    {
     "name": "stdout",
     "output_type": "stream",
     "text": [
      "Eigenvalue 4: 1.0322 (Error: 3.3943e-09)\n"
     ]
    },
    {
     "data": {
      "application/vnd.jupyter.widget-view+json": {
       "model_id": "a832a434eb754297a100b6684f5ac376",
       "version_major": 2,
       "version_minor": 0
      },
      "text/plain": [
       "Widget(value='<iframe src=\"http://localhost:40727/index.html?ui=P_0x77eb4bf98410_4&reconnect=auto\" class=\"pyvi…"
      ]
     },
     "metadata": {},
     "output_type": "display_data"
    },
    {
     "name": "stdout",
     "output_type": "stream",
     "text": [
      "Eigenvalue 5: 1.1777 (Error: 1.4301e-08)\n"
     ]
    },
    {
     "data": {
      "application/vnd.jupyter.widget-view+json": {
       "model_id": "5735853ff8b5417bbf030f9e2f3c6059",
       "version_major": 2,
       "version_minor": 0
      },
      "text/plain": [
       "Widget(value='<iframe src=\"http://localhost:40727/index.html?ui=P_0x77eb4bf98550_5&reconnect=auto\" class=\"pyvi…"
      ]
     },
     "metadata": {},
     "output_type": "display_data"
    }
   ],
   "source": [
    "plot_eigenfunctions(domain, V, eigensolver, A, n_conv)"
   ]
  },
  {
   "cell_type": "code",
   "execution_count": null,
   "id": "36b2dc57",
   "metadata": {},
   "outputs": [],
   "source": []
  },
  {
   "cell_type": "code",
   "execution_count": null,
   "id": "3a3109f9",
   "metadata": {},
   "outputs": [],
   "source": []
  }
 ],
 "metadata": {
  "kernelspec": {
   "display_name": "fenicsx-env",
   "language": "python",
   "name": "python3"
  },
  "language_info": {
   "codemirror_mode": {
    "name": "ipython",
    "version": 3
   },
   "file_extension": ".py",
   "mimetype": "text/x-python",
   "name": "python",
   "nbconvert_exporter": "python",
   "pygments_lexer": "ipython3",
   "version": "3.13.3"
  }
 },
 "nbformat": 4,
 "nbformat_minor": 5
}
